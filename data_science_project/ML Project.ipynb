{
 "cells": [
  {
   "cell_type": "markdown",
   "id": "bcf4ccd2-32a6-4349-bad9-71bca0960b3e",
   "metadata": {},
   "source": [
    "# **First ML Project**"
   ]
  },
  {
   "cell_type": "code",
   "id": "57fa9a4e-1150-4af7-8c8c-6c67298e344c",
   "metadata": {
    "ExecuteTime": {
     "end_time": "2025-05-11T08:41:33.726549Z",
     "start_time": "2025-05-11T08:41:30.778991Z"
    }
   },
   "source": [
    "import sklearn\n",
    "import scipy as scio\n",
    "import numpy as np\n",
    "import matplotlib.pyplot as plt\n",
    "import pandas as pd"
   ],
   "outputs": [],
   "execution_count": 1
  },
  {
   "cell_type": "markdown",
   "id": "fcb5a044-7d95-42ee-b43f-82ae6e09688d",
   "metadata": {},
   "source": [
    "Use the following imports in the places you need for this project"
   ]
  },
  {
   "cell_type": "code",
   "id": "3f2ae096-21f7-41b2-90a4-fa954a429daf",
   "metadata": {
    "ExecuteTime": {
     "end_time": "2025-05-02T21:42:10.579886Z",
     "start_time": "2025-05-02T21:42:10.565898Z"
    }
   },
   "source": "",
   "outputs": [],
   "execution_count": 93
  },
  {
   "cell_type": "markdown",
   "id": "7ccbfa00-8a7d-49a1-ac64-11c3fdbd536a",
   "metadata": {},
   "source": [
    "1. Load Data\n",
    "2. Explore Data (Correlations to label, and to each other)\n",
    "3. Split Data (train_test, train_cv_test)\n",
    "4. Preprocess Data (normalization, imputation, logarithms (trying to get a gaussian distribution))\n",
    "5. Create Pipelines (preprocessing all in one)\n",
    "6. Model Selection\n",
    "7. Model Tuning"
   ]
  },
  {
   "cell_type": "markdown",
   "id": "a5b4d364-c204-4523-b2e9-c1071727bb73",
   "metadata": {},
   "source": [
    "## **Loading the Data**"
   ]
  },
  {
   "cell_type": "code",
   "id": "2c441e6f-1706-46d2-bae3-7743e697d765",
   "metadata": {
    "ExecuteTime": {
     "end_time": "2025-05-02T21:42:10.660992Z",
     "start_time": "2025-05-02T21:42:10.584889Z"
    }
   },
   "source": [
    "import csv\n",
    "data = pd.read_csv('master-6.csv')\n",
    "data.head()"
   ],
   "outputs": [
    {
     "data": {
      "text/plain": [
       "   Age  Gender  Daily Social Media Usage(hours)  \\\n",
       "0   35  Female                             12.0   \n",
       "1   30  Female                             12.0   \n",
       "2   16  Female                             12.0   \n",
       "3   30  Female                             12.0   \n",
       "4   30    Male                             12.0   \n",
       "\n",
       "   Number of Social Media Platforms  Frequency of Posts  \\\n",
       "0                                 2                   3   \n",
       "1                                 2                   2   \n",
       "2                                 2                   3   \n",
       "3                                 2                   4   \n",
       "4                                 2                   2   \n",
       "\n",
       "   Frequency of Checking Notifications  Self Reported Addiction Score  \\\n",
       "0                                  2.0                           10.0   \n",
       "1                                  0.0                           10.0   \n",
       "2                                  1.0                           10.0   \n",
       "3                                  1.0                           10.0   \n",
       "4                                  2.0                           10.0   \n",
       "\n",
       "   Cyberbullying Experience  Self Esteem Score  Sleep Quality  Anxiety Score  \\\n",
       "0                         0                1.0            6.0            7.0   \n",
       "1                         0                1.0            2.0            7.0   \n",
       "2                         0                1.0            5.0            8.0   \n",
       "3                         0                1.0            8.0            8.0   \n",
       "4                         0                1.0            7.0            8.0   \n",
       "\n",
       "   Social Media Fatigue Score  Mental Health Status  \n",
       "0                          10                     0  \n",
       "1                           9                     0  \n",
       "2                           8                     0  \n",
       "3                          10                     0  \n",
       "4                          10                     0  "
      ],
      "text/html": [
       "<div>\n",
       "<style scoped>\n",
       "    .dataframe tbody tr th:only-of-type {\n",
       "        vertical-align: middle;\n",
       "    }\n",
       "\n",
       "    .dataframe tbody tr th {\n",
       "        vertical-align: top;\n",
       "    }\n",
       "\n",
       "    .dataframe thead th {\n",
       "        text-align: right;\n",
       "    }\n",
       "</style>\n",
       "<table border=\"1\" class=\"dataframe\">\n",
       "  <thead>\n",
       "    <tr style=\"text-align: right;\">\n",
       "      <th></th>\n",
       "      <th>Age</th>\n",
       "      <th>Gender</th>\n",
       "      <th>Daily Social Media Usage(hours)</th>\n",
       "      <th>Number of Social Media Platforms</th>\n",
       "      <th>Frequency of Posts</th>\n",
       "      <th>Frequency of Checking Notifications</th>\n",
       "      <th>Self Reported Addiction Score</th>\n",
       "      <th>Cyberbullying Experience</th>\n",
       "      <th>Self Esteem Score</th>\n",
       "      <th>Sleep Quality</th>\n",
       "      <th>Anxiety Score</th>\n",
       "      <th>Social Media Fatigue Score</th>\n",
       "      <th>Mental Health Status</th>\n",
       "    </tr>\n",
       "  </thead>\n",
       "  <tbody>\n",
       "    <tr>\n",
       "      <th>0</th>\n",
       "      <td>35</td>\n",
       "      <td>Female</td>\n",
       "      <td>12.0</td>\n",
       "      <td>2</td>\n",
       "      <td>3</td>\n",
       "      <td>2.0</td>\n",
       "      <td>10.0</td>\n",
       "      <td>0</td>\n",
       "      <td>1.0</td>\n",
       "      <td>6.0</td>\n",
       "      <td>7.0</td>\n",
       "      <td>10</td>\n",
       "      <td>0</td>\n",
       "    </tr>\n",
       "    <tr>\n",
       "      <th>1</th>\n",
       "      <td>30</td>\n",
       "      <td>Female</td>\n",
       "      <td>12.0</td>\n",
       "      <td>2</td>\n",
       "      <td>2</td>\n",
       "      <td>0.0</td>\n",
       "      <td>10.0</td>\n",
       "      <td>0</td>\n",
       "      <td>1.0</td>\n",
       "      <td>2.0</td>\n",
       "      <td>7.0</td>\n",
       "      <td>9</td>\n",
       "      <td>0</td>\n",
       "    </tr>\n",
       "    <tr>\n",
       "      <th>2</th>\n",
       "      <td>16</td>\n",
       "      <td>Female</td>\n",
       "      <td>12.0</td>\n",
       "      <td>2</td>\n",
       "      <td>3</td>\n",
       "      <td>1.0</td>\n",
       "      <td>10.0</td>\n",
       "      <td>0</td>\n",
       "      <td>1.0</td>\n",
       "      <td>5.0</td>\n",
       "      <td>8.0</td>\n",
       "      <td>8</td>\n",
       "      <td>0</td>\n",
       "    </tr>\n",
       "    <tr>\n",
       "      <th>3</th>\n",
       "      <td>30</td>\n",
       "      <td>Female</td>\n",
       "      <td>12.0</td>\n",
       "      <td>2</td>\n",
       "      <td>4</td>\n",
       "      <td>1.0</td>\n",
       "      <td>10.0</td>\n",
       "      <td>0</td>\n",
       "      <td>1.0</td>\n",
       "      <td>8.0</td>\n",
       "      <td>8.0</td>\n",
       "      <td>10</td>\n",
       "      <td>0</td>\n",
       "    </tr>\n",
       "    <tr>\n",
       "      <th>4</th>\n",
       "      <td>30</td>\n",
       "      <td>Male</td>\n",
       "      <td>12.0</td>\n",
       "      <td>2</td>\n",
       "      <td>2</td>\n",
       "      <td>2.0</td>\n",
       "      <td>10.0</td>\n",
       "      <td>0</td>\n",
       "      <td>1.0</td>\n",
       "      <td>7.0</td>\n",
       "      <td>8.0</td>\n",
       "      <td>10</td>\n",
       "      <td>0</td>\n",
       "    </tr>\n",
       "  </tbody>\n",
       "</table>\n",
       "</div>"
      ]
     },
     "execution_count": 94,
     "metadata": {},
     "output_type": "execute_result"
    }
   ],
   "execution_count": 94
  },
  {
   "cell_type": "markdown",
   "id": "b2abf72f49d3fc89",
   "metadata": {},
   "source": [
    "## **Exploring the Data**"
   ]
  },
  {
   "cell_type": "code",
   "id": "925755ab-f5ef-4c27-b146-cd8b537bc3f2",
   "metadata": {
    "ExecuteTime": {
     "end_time": "2025-05-02T21:42:12.519617Z",
     "start_time": "2025-05-02T21:42:10.661987Z"
    }
   },
   "source": [
    "data.hist(bins = 6, figsize =(12, 10) )\n",
    "plt.show()\n",
    "data.describe()"
   ],
   "outputs": [
    {
     "data": {
      "text/plain": [
       "<Figure size 1200x1000 with 12 Axes>"
      ],
      "image/png": "[encoded data removed]"
     },
     "metadata": {},
     "output_type": "display_data"
    },
    {
     "data": {
      "text/plain": [
       "                Age  Daily Social Media Usage(hours)  \\\n",
       "count  10765.000000                     10652.000000   \n",
       "mean      29.984765                         5.013706   \n",
       "std        9.549230                         2.947448   \n",
       "min       16.000000                         0.000000   \n",
       "25%       22.000000                         3.000000   \n",
       "50%       30.000000                         4.000000   \n",
       "75%       35.000000                         7.000000   \n",
       "max       50.000000                        12.000000   \n",
       "\n",
       "       Number of Social Media Platforms  Frequency of Posts  \\\n",
       "count                      10765.000000        10765.000000   \n",
       "mean                           2.891779            1.792290   \n",
       "std                            1.371896            1.022488   \n",
       "min                            1.000000            0.000000   \n",
       "25%                            2.000000            1.000000   \n",
       "50%                            3.000000            2.000000   \n",
       "75%                            4.000000            2.000000   \n",
       "max                            6.000000            4.000000   \n",
       "\n",
       "       Frequency of Checking Notifications  Self Reported Addiction Score  \\\n",
       "count                         10650.000000                   10658.000000   \n",
       "mean                              1.107230                       8.351098   \n",
       "std                               0.765336                       1.724754   \n",
       "min                               0.000000                       1.000000   \n",
       "25%                               1.000000                       7.000000   \n",
       "50%                               1.000000                       9.000000   \n",
       "75%                               2.000000                      10.000000   \n",
       "max                               2.000000                      10.000000   \n",
       "\n",
       "       Cyberbullying Experience  Self Esteem Score  Sleep Quality  \\\n",
       "count              10765.000000       10647.000000   10655.000000   \n",
       "mean                   0.199443           5.161266       5.463820   \n",
       "std                    0.399600           2.727841       2.239252   \n",
       "min                    0.000000           1.000000       1.000000   \n",
       "25%                    0.000000           3.000000       4.000000   \n",
       "50%                    0.000000           5.000000       5.000000   \n",
       "75%                    0.000000           7.000000       7.000000   \n",
       "max                    1.000000          10.000000      10.000000   \n",
       "\n",
       "       Anxiety Score  Social Media Fatigue Score  Mental Health Status  \n",
       "count   10670.000000                10765.000000          10765.000000  \n",
       "mean        5.489410                    5.520111              1.031863  \n",
       "std         2.247801                    1.801587              0.940543  \n",
       "min         1.000000                    1.000000              0.000000  \n",
       "25%         4.000000                    4.000000              0.000000  \n",
       "50%         5.000000                    5.000000              1.000000  \n",
       "75%         7.000000                    7.000000              2.000000  \n",
       "max        10.000000                   10.000000              3.000000  "
      ],
      "text/html": [
       "<div>\n",
       "<style scoped>\n",
       "    .dataframe tbody tr th:only-of-type {\n",
       "        vertical-align: middle;\n",
       "    }\n",
       "\n",
       "    .dataframe tbody tr th {\n",
       "        vertical-align: top;\n",
       "    }\n",
       "\n",
       "    .dataframe thead th {\n",
       "        text-align: right;\n",
       "    }\n",
       "</style>\n",
       "<table border=\"1\" class=\"dataframe\">\n",
       "  <thead>\n",
       "    <tr style=\"text-align: right;\">\n",
       "      <th></th>\n",
       "      <th>Age</th>\n",
       "      <th>Daily Social Media Usage(hours)</th>\n",
       "      <th>Number of Social Media Platforms</th>\n",
       "      <th>Frequency of Posts</th>\n",
       "      <th>Frequency of Checking Notifications</th>\n",
       "      <th>Self Reported Addiction Score</th>\n",
       "      <th>Cyberbullying Experience</th>\n",
       "      <th>Self Esteem Score</th>\n",
       "      <th>Sleep Quality</th>\n",
       "      <th>Anxiety Score</th>\n",
       "      <th>Social Media Fatigue Score</th>\n",
       "      <th>Mental Health Status</th>\n",
       "    </tr>\n",
       "  </thead>\n",
       "  <tbody>\n",
       "    <tr>\n",
       "      <th>count</th>\n",
       "      <td>10765.000000</td>\n",
       "      <td>10652.000000</td>\n",
       "      <td>10765.000000</td>\n",
       "      <td>10765.000000</td>\n",
       "      <td>10650.000000</td>\n",
       "      <td>10658.000000</td>\n",
       "      <td>10765.000000</td>\n",
       "      <td>10647.000000</td>\n",
       "      <td>10655.000000</td>\n",
       "      <td>10670.000000</td>\n",
       "      <td>10765.000000</td>\n",
       "      <td>10765.000000</td>\n",
       "    </tr>\n",
       "    <tr>\n",
       "      <th>mean</th>\n",
       "      <td>29.984765</td>\n",
       "      <td>5.013706</td>\n",
       "      <td>2.891779</td>\n",
       "      <td>1.792290</td>\n",
       "      <td>1.107230</td>\n",
       "      <td>8.351098</td>\n",
       "      <td>0.199443</td>\n",
       "      <td>5.161266</td>\n",
       "      <td>5.463820</td>\n",
       "      <td>5.489410</td>\n",
       "      <td>5.520111</td>\n",
       "      <td>1.031863</td>\n",
       "    </tr>\n",
       "    <tr>\n",
       "      <th>std</th>\n",
       "      <td>9.549230</td>\n",
       "      <td>2.947448</td>\n",
       "      <td>1.371896</td>\n",
       "      <td>1.022488</td>\n",
       "      <td>0.765336</td>\n",
       "      <td>1.724754</td>\n",
       "      <td>0.399600</td>\n",
       "      <td>2.727841</td>\n",
       "      <td>2.239252</td>\n",
       "      <td>2.247801</td>\n",
       "      <td>1.801587</td>\n",
       "      <td>0.940543</td>\n",
       "    </tr>\n",
       "    <tr>\n",
       "      <th>min</th>\n",
       "      <td>16.000000</td>\n",
       "      <td>0.000000</td>\n",
       "      <td>1.000000</td>\n",
       "      <td>0.000000</td>\n",
       "      <td>0.000000</td>\n",
       "      <td>1.000000</td>\n",
       "      <td>0.000000</td>\n",
       "      <td>1.000000</td>\n",
       "      <td>1.000000</td>\n",
       "      <td>1.000000</td>\n",
       "      <td>1.000000</td>\n",
       "      <td>0.000000</td>\n",
       "    </tr>\n",
       "    <tr>\n",
       "      <th>25%</th>\n",
       "      <td>22.000000</td>\n",
       "      <td>3.000000</td>\n",
       "      <td>2.000000</td>\n",
       "      <td>1.000000</td>\n",
       "      <td>1.000000</td>\n",
       "      <td>7.000000</td>\n",
       "      <td>0.000000</td>\n",
       "      <td>3.000000</td>\n",
       "      <td>4.000000</td>\n",
       "      <td>4.000000</td>\n",
       "      <td>4.000000</td>\n",
       "      <td>0.000000</td>\n",
       "    </tr>\n",
       "    <tr>\n",
       "      <th>50%</th>\n",
       "      <td>30.000000</td>\n",
       "      <td>4.000000</td>\n",
       "      <td>3.000000</td>\n",
       "      <td>2.000000</td>\n",
       "      <td>1.000000</td>\n",
       "      <td>9.000000</td>\n",
       "      <td>0.000000</td>\n",
       "      <td>5.000000</td>\n",
       "      <td>5.000000</td>\n",
       "      <td>5.000000</td>\n",
       "      <td>5.000000</td>\n",
       "      <td>1.000000</td>\n",
       "    </tr>\n",
       "    <tr>\n",
       "      <th>75%</th>\n",
       "      <td>35.000000</td>\n",
       "      <td>7.000000</td>\n",
       "      <td>4.000000</td>\n",
       "      <td>2.000000</td>\n",
       "      <td>2.000000</td>\n",
       "      <td>10.000000</td>\n",
       "      <td>0.000000</td>\n",
       "      <td>7.000000</td>\n",
       "      <td>7.000000</td>\n",
       "      <td>7.000000</td>\n",
       "      <td>7.000000</td>\n",
       "      <td>2.000000</td>\n",
       "    </tr>\n",
       "    <tr>\n",
       "      <th>max</th>\n",
       "      <td>50.000000</td>\n",
       "      <td>12.000000</td>\n",
       "      <td>6.000000</td>\n",
       "      <td>4.000000</td>\n",
       "      <td>2.000000</td>\n",
       "      <td>10.000000</td>\n",
       "      <td>1.000000</td>\n",
       "      <td>10.000000</td>\n",
       "      <td>10.000000</td>\n",
       "      <td>10.000000</td>\n",
       "      <td>10.000000</td>\n",
       "      <td>3.000000</td>\n",
       "    </tr>\n",
       "  </tbody>\n",
       "</table>\n",
       "</div>"
      ]
     },
     "execution_count": 95,
     "metadata": {},
     "output_type": "execute_result"
    }
   ],
   "execution_count": 95
  },
  {
   "cell_type": "code",
   "id": "2fb5a3e1-6c01-427a-ad27-7c7359b4b5f7",
   "metadata": {
    "ExecuteTime": {
     "end_time": "2025-05-02T21:42:12.539472Z",
     "start_time": "2025-05-02T21:42:12.521618Z"
    }
   },
   "source": [
    "data.info()"
   ],
   "outputs": [
    {
     "name": "stdout",
     "output_type": "stream",
     "text": [
      "<class 'pandas.core.frame.DataFrame'>\n",
      "RangeIndex: 10765 entries, 0 to 10764\n",
      "Data columns (total 13 columns):\n",
      " #   Column                               Non-Null Count  Dtype  \n",
      "---  ------                               --------------  -----  \n",
      " 0   Age                                  10765 non-null  int64  \n",
      " 1   Gender                               10765 non-null  object \n",
      " 2   Daily Social Media Usage(hours)      10652 non-null  float64\n",
      " 3   Number of Social Media Platforms     10765 non-null  int64  \n",
      " 4   Frequency of Posts                   10765 non-null  int64  \n",
      " 5   Frequency of Checking Notifications  10650 non-null  float64\n",
      " 6   Self Reported Addiction Score        10658 non-null  float64\n",
      " 7   Cyberbullying Experience             10765 non-null  int64  \n",
      " 8   Self Esteem Score                    10647 non-null  float64\n",
      " 9   Sleep Quality                        10655 non-null  float64\n",
      " 10  Anxiety Score                        10670 non-null  float64\n",
      " 11  Social Media Fatigue Score           10765 non-null  int64  \n",
      " 12  Mental Health Status                 10765 non-null  int64  \n",
      "dtypes: float64(6), int64(6), object(1)\n",
      "memory usage: 1.1+ MB\n"
     ]
    }
   ],
   "execution_count": 96
  },
  {
   "cell_type": "code",
   "id": "b621eff9-84a6-43ac-a7b2-cc13e562fb68",
   "metadata": {
    "ExecuteTime": {
     "end_time": "2025-05-02T21:42:12.551113Z",
     "start_time": "2025-05-02T21:42:12.540474Z"
    }
   },
   "source": [
    "data_num = data.select_dtypes(include = [np.number])\n",
    "corr_matrix = data_num.corr()\n",
    "corr_matrix[\"Anxiety Score\"].sort_values(ascending = False)"
   ],
   "outputs": [
    {
     "data": {
      "text/plain": [
       "Anxiety Score                          1.000000\n",
       "Daily Social Media Usage(hours)        0.891534\n",
       "Self Reported Addiction Score          0.731156\n",
       "Social Media Fatigue Score             0.728363\n",
       "Age                                    0.010749\n",
       "Sleep Quality                          0.004854\n",
       "Number of Social Media Platforms       0.001240\n",
       "Frequency of Posts                    -0.000327\n",
       "Frequency of Checking Notifications   -0.004205\n",
       "Cyberbullying Experience              -0.010336\n",
       "Mental Health Status                  -0.805514\n",
       "Self Esteem Score                     -0.829373\n",
       "Name: Anxiety Score, dtype: float64"
      ]
     },
     "execution_count": 97,
     "metadata": {},
     "output_type": "execute_result"
    }
   ],
   "execution_count": 97
  },
  {
   "cell_type": "code",
   "id": "8850c14b-a8ea-47b2-9407-9b75bdfa4928",
   "metadata": {
    "ExecuteTime": {
     "end_time": "2025-05-02T21:42:12.557890Z",
     "start_time": "2025-05-02T21:42:12.553110Z"
    }
   },
   "source": [
    "corr_matrix[\"Self Esteem Score\"].sort_values(ascending = False)"
   ],
   "outputs": [
    {
     "data": {
      "text/plain": [
       "Self Esteem Score                      1.000000\n",
       "Mental Health Status                   0.842062\n",
       "Cyberbullying Experience               0.012088\n",
       "Frequency of Posts                     0.004542\n",
       "Frequency of Checking Notifications    0.001899\n",
       "Number of Social Media Platforms      -0.004665\n",
       "Sleep Quality                         -0.007120\n",
       "Age                                   -0.009509\n",
       "Social Media Fatigue Score            -0.763975\n",
       "Self Reported Addiction Score         -0.789677\n",
       "Anxiety Score                         -0.829373\n",
       "Daily Social Media Usage(hours)       -0.925524\n",
       "Name: Self Esteem Score, dtype: float64"
      ]
     },
     "execution_count": 98,
     "metadata": {},
     "output_type": "execute_result"
    }
   ],
   "execution_count": 98
  },
  {
   "cell_type": "code",
   "id": "8ae9f923-7b31-42be-8cb0-3db7723954a6",
   "metadata": {
    "ExecuteTime": {
     "end_time": "2025-05-02T21:42:15.917072Z",
     "start_time": "2025-05-02T21:42:12.558892Z"
    }
   },
   "source": [
    "from pandas.plotting import scatter_matrix\n",
    "attributes = [\"Self Esteem Score\", \"Mental Health Status\", \"Social Media Fatigue Score\", \"Self Reported Addiction Score\", \"Anxiety Score\", \"Daily Social Media Usage(hours)\"]\n",
    "scatter_matrix(data[attributes], figsize = (36,24))\n",
    "plt.show()"
   ],
   "outputs": [
    {
     "data": {
      "text/plain": [
       "<Figure size 3600x2400 with 36 Axes>"
      ],
      "image/png": "[encoded data removed]"
     },
     "metadata": {},
     "output_type": "display_data"
    }
   ],
   "execution_count": 99
  },
  {
   "cell_type": "markdown",
   "id": "1230acc2-8537-4719-9ccc-fce047aeeb15",
   "metadata": {},
   "source": [
    "## **Splitting the Data**"
   ]
  },
  {
   "cell_type": "markdown",
   "id": "72eb1e2a-c99f-4c08-b79b-b7a39986248b",
   "metadata": {},
   "source": [
    "> Never Look at the training set. That leads to Snooping Bias"
   ]
  },
  {
   "cell_type": "code",
   "id": "59c967d56105f26f",
   "metadata": {
    "ExecuteTime": {
     "end_time": "2025-05-02T21:42:15.927481Z",
     "start_time": "2025-05-02T21:42:15.918073Z"
    }
   },
   "source": [
    "from sklearn.model_selection import train_test_split\n",
    "train_set, test_set = train_test_split(data, test_size = 0.2)"
   ],
   "outputs": [],
   "execution_count": 100
  },
  {
   "cell_type": "code",
   "id": "dec0af12-7735-4a70-bbb6-0c46be1e4be8",
   "metadata": {
    "ExecuteTime": {
     "end_time": "2025-05-02T21:42:15.956482Z",
     "start_time": "2025-05-02T21:42:15.928479Z"
    }
   },
   "source": [
    "data = train_set\n",
    "data = data.drop(\"Self Reported Addiction Score\", axis = 1)\n",
    "labels = train_set[\"Self Reported Addiction Score\"]\n",
    "data.describe()\n",
    "labels.shape"
   ],
   "outputs": [
    {
     "data": {
      "text/plain": [
       "(8612,)"
      ]
     },
     "execution_count": 101,
     "metadata": {},
     "output_type": "execute_result"
    }
   ],
   "execution_count": 101
  },
  {
   "cell_type": "code",
   "id": "f8b868e0-b2af-48fc-850f-a380a5cb810c",
   "metadata": {
    "ExecuteTime": {
     "end_time": "2025-05-02T21:42:15.968491Z",
     "start_time": "2025-05-02T21:42:15.957489Z"
    }
   },
   "source": "labels.info()",
   "outputs": [
    {
     "name": "stdout",
     "output_type": "stream",
     "text": [
      "<class 'pandas.core.series.Series'>\n",
      "Index: 8612 entries, 10173 to 8416\n",
      "Series name: Self Reported Addiction Score\n",
      "Non-Null Count  Dtype  \n",
      "--------------  -----  \n",
      "8527 non-null   float64\n",
      "dtypes: float64(1)\n",
      "memory usage: 134.6 KB\n"
     ]
    }
   ],
   "execution_count": 102
  },
  {
   "cell_type": "markdown",
   "id": "e8160f8f-1211-434e-bc08-c99b0cc4a478",
   "metadata": {},
   "source": [
    "## **Preprocess Data**"
   ]
  },
  {
   "cell_type": "markdown",
   "id": "816b4a37-060e-4a4f-8f83-1e6c64427170",
   "metadata": {},
   "source": [
    "Data is already mostly preprocessed. Just Preform some imputation and Standardization (Not Normalization)\n",
    "Notice that the transformed data is actually stored in variables other than data (data_num_scaled, data_cat_scaled). This is because we will change the original data in the pipelining portion"
   ]
  },
  {
   "cell_type": "code",
   "id": "b84de9d53f7610ad",
   "metadata": {
    "ExecuteTime": {
     "end_time": "2025-05-02T21:42:15.995113Z",
     "start_time": "2025-05-02T21:42:15.969489Z"
    }
   },
   "source": [
    "#Imputation\n",
    "from sklearn.impute import SimpleImputer\n",
    "data_num = data.select_dtypes(include = [np.number])\n",
    "data_cat = data.select_dtypes(exclude = [np.number])\n",
    "\n",
    "imputer_num = SimpleImputer(missing_values = np.nan, strategy = 'median')\n",
    "data_num = imputer_num.fit_transform(data_num)\n",
    "\n",
    "imputer_cat = SimpleImputer(missing_values = np.nan, strategy = 'most_frequent')\n",
    "data_cat = imputer_cat.fit_transform(data_cat)"
   ],
   "outputs": [],
   "execution_count": 103
  },
  {
   "cell_type": "code",
   "id": "4c995ba7-53fb-43b0-9853-a39445faed54",
   "metadata": {
    "ExecuteTime": {
     "end_time": "2025-05-02T21:42:16.004527Z",
     "start_time": "2025-05-02T21:42:15.998116Z"
    }
   },
   "source": [
    "#Standardization of Data.\n",
    "\"\"\"Data and not labels, cuz we don't necessarily want the same transformations done on our data to be done on our labels\"\"\"\n",
    "from sklearn.preprocessing import StandardScaler\n",
    "\n",
    "std_scaler = StandardScaler()\n",
    "data_num_scaled = std_scaler.fit_transform(data_num)"
   ],
   "outputs": [],
   "execution_count": 104
  },
  {
   "cell_type": "code",
   "id": "bf0ede1ada1e23a4",
   "metadata": {
    "ExecuteTime": {
     "end_time": "2025-05-02T21:42:16.041065Z",
     "start_time": "2025-05-02T21:42:16.005527Z"
    }
   },
   "source": [
    "temp = pd.DataFrame(data_num_scaled, columns = imputer_num.get_feature_names_out())\n",
    "temp.describe()"
   ],
   "outputs": [
    {
     "data": {
      "text/plain": [
       "                Age  Daily Social Media Usage(hours)  \\\n",
       "count  8.612000e+03                     8.612000e+03   \n",
       "mean  -1.526363e-17                    -8.663143e-17   \n",
       "std    1.000058e+00                     1.000058e+00   \n",
       "min   -1.474004e+00                    -1.690906e+00   \n",
       "25%   -8.425709e-01                    -6.712715e-01   \n",
       "50%   -6.598815e-04                    -3.313932e-01   \n",
       "75%    5.255345e-01                     6.882417e-01   \n",
       "max    2.104118e+00                     2.387633e+00   \n",
       "\n",
       "       Number of Social Media Platforms  Frequency of Posts  \\\n",
       "count                      8.612000e+03        8.612000e+03   \n",
       "mean                      -2.145159e-17       -2.454557e-17   \n",
       "std                        1.000058e+00        1.000058e+00   \n",
       "min                       -1.376243e+00       -1.744160e+00   \n",
       "25%                       -6.464722e-01       -7.689794e-01   \n",
       "50%                        8.329823e-02        2.062011e-01   \n",
       "75%                        8.130687e-01        2.062011e-01   \n",
       "max                        2.272610e+00        2.156562e+00   \n",
       "\n",
       "       Frequency of Checking Notifications  Cyberbullying Experience  \\\n",
       "count                         8.612000e+03              8.612000e+03   \n",
       "mean                          1.414980e-16              1.443857e-17   \n",
       "std                           1.000058e+00              1.000058e+00   \n",
       "min                          -1.463004e+00             -5.008345e-01   \n",
       "25%                          -1.479648e-01             -5.008345e-01   \n",
       "50%                          -1.479648e-01             -5.008345e-01   \n",
       "75%                           1.167074e+00             -5.008345e-01   \n",
       "max                           1.167074e+00              1.996668e+00   \n",
       "\n",
       "       Self Esteem Score  Sleep Quality  Anxiety Score  \\\n",
       "count       8.612000e+03   8.612000e+03   8.612000e+03   \n",
       "mean        6.971767e-17   1.716127e-16  -4.207812e-17   \n",
       "std         1.000058e+00   1.000058e+00   1.000058e+00   \n",
       "min        -1.537565e+00  -2.018801e+00  -1.991803e+00   \n",
       "25%        -8.037400e-01  -6.674941e-01  -6.521116e-01   \n",
       "50%        -6.991451e-02   2.333771e-01  -2.055479e-01   \n",
       "75%         6.639109e-01   6.838127e-01   6.875795e-01   \n",
       "max         1.764649e+00   2.035120e+00   2.027271e+00   \n",
       "\n",
       "       Social Media Fatigue Score  Mental Health Status  \n",
       "count                8.612000e+03          8.612000e+03  \n",
       "mean                -2.186412e-16          1.278845e-16  \n",
       "std                  1.000058e+00          1.000058e+00  \n",
       "min                 -2.499254e+00         -1.108161e+00  \n",
       "25%                 -8.317508e-01         -1.108161e+00  \n",
       "50%                 -2.759164e-01         -4.529402e-02  \n",
       "75%                  8.357524e-01          1.017573e+00  \n",
       "max                  2.503256e+00          2.080439e+00  "
      ],
      "text/html": [
       "<div>\n",
       "<style scoped>\n",
       "    .dataframe tbody tr th:only-of-type {\n",
       "        vertical-align: middle;\n",
       "    }\n",
       "\n",
       "    .dataframe tbody tr th {\n",
       "        vertical-align: top;\n",
       "    }\n",
       "\n",
       "    .dataframe thead th {\n",
       "        text-align: right;\n",
       "    }\n",
       "</style>\n",
       "<table border=\"1\" class=\"dataframe\">\n",
       "  <thead>\n",
       "    <tr style=\"text-align: right;\">\n",
       "      <th></th>\n",
       "      <th>Age</th>\n",
       "      <th>Daily Social Media Usage(hours)</th>\n",
       "      <th>Number of Social Media Platforms</th>\n",
       "      <th>Frequency of Posts</th>\n",
       "      <th>Frequency of Checking Notifications</th>\n",
       "      <th>Cyberbullying Experience</th>\n",
       "      <th>Self Esteem Score</th>\n",
       "      <th>Sleep Quality</th>\n",
       "      <th>Anxiety Score</th>\n",
       "      <th>Social Media Fatigue Score</th>\n",
       "      <th>Mental Health Status</th>\n",
       "    </tr>\n",
       "  </thead>\n",
       "  <tbody>\n",
       "    <tr>\n",
       "      <th>count</th>\n",
       "      <td>8.612000e+03</td>\n",
       "      <td>8.612000e+03</td>\n",
       "      <td>8.612000e+03</td>\n",
       "      <td>8.612000e+03</td>\n",
       "      <td>8.612000e+03</td>\n",
       "      <td>8.612000e+03</td>\n",
       "      <td>8.612000e+03</td>\n",
       "      <td>8.612000e+03</td>\n",
       "      <td>8.612000e+03</td>\n",
       "      <td>8.612000e+03</td>\n",
       "      <td>8.612000e+03</td>\n",
       "    </tr>\n",
       "    <tr>\n",
       "      <th>mean</th>\n",
       "      <td>-1.526363e-17</td>\n",
       "      <td>-8.663143e-17</td>\n",
       "      <td>-2.145159e-17</td>\n",
       "      <td>-2.454557e-17</td>\n",
       "      <td>1.414980e-16</td>\n",
       "      <td>1.443857e-17</td>\n",
       "      <td>6.971767e-17</td>\n",
       "      <td>1.716127e-16</td>\n",
       "      <td>-4.207812e-17</td>\n",
       "      <td>-2.186412e-16</td>\n",
       "      <td>1.278845e-16</td>\n",
       "    </tr>\n",
       "    <tr>\n",
       "      <th>std</th>\n",
       "      <td>1.000058e+00</td>\n",
       "      <td>1.000058e+00</td>\n",
       "      <td>1.000058e+00</td>\n",
       "      <td>1.000058e+00</td>\n",
       "      <td>1.000058e+00</td>\n",
       "      <td>1.000058e+00</td>\n",
       "      <td>1.000058e+00</td>\n",
       "      <td>1.000058e+00</td>\n",
       "      <td>1.000058e+00</td>\n",
       "      <td>1.000058e+00</td>\n",
       "      <td>1.000058e+00</td>\n",
       "    </tr>\n",
       "    <tr>\n",
       "      <th>min</th>\n",
       "      <td>-1.474004e+00</td>\n",
       "      <td>-1.690906e+00</td>\n",
       "      <td>-1.376243e+00</td>\n",
       "      <td>-1.744160e+00</td>\n",
       "      <td>-1.463004e+00</td>\n",
       "      <td>-5.008345e-01</td>\n",
       "      <td>-1.537565e+00</td>\n",
       "      <td>-2.018801e+00</td>\n",
       "      <td>-1.991803e+00</td>\n",
       "      <td>-2.499254e+00</td>\n",
       "      <td>-1.108161e+00</td>\n",
       "    </tr>\n",
       "    <tr>\n",
       "      <th>25%</th>\n",
       "      <td>-8.425709e-01</td>\n",
       "      <td>-6.712715e-01</td>\n",
       "      <td>-6.464722e-01</td>\n",
       "      <td>-7.689794e-01</td>\n",
       "      <td>-1.479648e-01</td>\n",
       "      <td>-5.008345e-01</td>\n",
       "      <td>-8.037400e-01</td>\n",
       "      <td>-6.674941e-01</td>\n",
       "      <td>-6.521116e-01</td>\n",
       "      <td>-8.317508e-01</td>\n",
       "      <td>-1.108161e+00</td>\n",
       "    </tr>\n",
       "    <tr>\n",
       "      <th>50%</th>\n",
       "      <td>-6.598815e-04</td>\n",
       "      <td>-3.313932e-01</td>\n",
       "      <td>8.329823e-02</td>\n",
       "      <td>2.062011e-01</td>\n",
       "      <td>-1.479648e-01</td>\n",
       "      <td>-5.008345e-01</td>\n",
       "      <td>-6.991451e-02</td>\n",
       "      <td>2.333771e-01</td>\n",
       "      <td>-2.055479e-01</td>\n",
       "      <td>-2.759164e-01</td>\n",
       "      <td>-4.529402e-02</td>\n",
       "    </tr>\n",
       "    <tr>\n",
       "      <th>75%</th>\n",
       "      <td>5.255345e-01</td>\n",
       "      <td>6.882417e-01</td>\n",
       "      <td>8.130687e-01</td>\n",
       "      <td>2.062011e-01</td>\n",
       "      <td>1.167074e+00</td>\n",
       "      <td>-5.008345e-01</td>\n",
       "      <td>6.639109e-01</td>\n",
       "      <td>6.838127e-01</td>\n",
       "      <td>6.875795e-01</td>\n",
       "      <td>8.357524e-01</td>\n",
       "      <td>1.017573e+00</td>\n",
       "    </tr>\n",
       "    <tr>\n",
       "      <th>max</th>\n",
       "      <td>2.104118e+00</td>\n",
       "      <td>2.387633e+00</td>\n",
       "      <td>2.272610e+00</td>\n",
       "      <td>2.156562e+00</td>\n",
       "      <td>1.167074e+00</td>\n",
       "      <td>1.996668e+00</td>\n",
       "      <td>1.764649e+00</td>\n",
       "      <td>2.035120e+00</td>\n",
       "      <td>2.027271e+00</td>\n",
       "      <td>2.503256e+00</td>\n",
       "      <td>2.080439e+00</td>\n",
       "    </tr>\n",
       "  </tbody>\n",
       "</table>\n",
       "</div>"
      ]
     },
     "execution_count": 105,
     "metadata": {},
     "output_type": "execute_result"
    }
   ],
   "execution_count": 105
  },
  {
   "cell_type": "code",
   "id": "612e6f0cf85b3eea",
   "metadata": {
    "ExecuteTime": {
     "end_time": "2025-05-02T21:42:16.047358Z",
     "start_time": "2025-05-02T21:42:16.042599Z"
    }
   },
   "source": [
    "del temp\n",
    "\n",
    "imputer_num.get_feature_names_out()"
   ],
   "outputs": [
    {
     "data": {
      "text/plain": [
       "array(['Age', 'Daily Social Media Usage(hours)',\n",
       "       'Number of Social Media Platforms', 'Frequency of Posts',\n",
       "       'Frequency of Checking Notifications', 'Cyberbullying Experience',\n",
       "       'Self Esteem Score', 'Sleep Quality', 'Anxiety Score',\n",
       "       'Social Media Fatigue Score', 'Mental Health Status'], dtype=object)"
      ]
     },
     "execution_count": 106,
     "metadata": {},
     "output_type": "execute_result"
    }
   ],
   "execution_count": 106
  },
  {
   "cell_type": "markdown",
   "id": "905092ef-7d39-4a28-a27a-2995840dc8e2",
   "metadata": {},
   "source": [
    "## **Create Pipelines**"
   ]
  },
  {
   "cell_type": "markdown",
   "id": "7ca384487a86a155",
   "metadata": {},
   "source": [
    "Putting all the preprocessing into a single pipeline (and modifying the actual dataset)"
   ]
  },
  {
   "cell_type": "code",
   "id": "c9569d8f-4353-4143-9efb-ac5fa52527c3",
   "metadata": {
    "ExecuteTime": {
     "end_time": "2025-05-02T21:42:16.071714Z",
     "start_time": "2025-05-02T21:42:16.049359Z"
    }
   },
   "source": [
    "from sklearn.pipeline import Pipeline, make_pipeline\n",
    "from sklearn.compose import ColumnTransformer, make_column_selector\n",
    "from sklearn.preprocessing import OneHotEncoder\n",
    "sklearn.set_config(display = \"diagram\")\n",
    "\n",
    "\"\"\"Showing off difference between Pipeline and make_pipeline\"\"\"\n",
    "num_pipeline = Pipeline([\n",
    "    ('imputer', SimpleImputer(missing_values = np.nan, strategy = 'median')),\n",
    "    ('std_scaler', StandardScaler())\n",
    "])\n",
    "\n",
    "cat_pipeline = make_pipeline(SimpleImputer(missing_values = np.nan, strategy = 'most_frequent'),\n",
    "                             OneHotEncoder(handle_unknown  = 'error'))\n",
    "\n",
    "\n",
    "num_attributes = make_column_selector(dtype_include=np.number)\n",
    "\n",
    "cat_attributes = [\"Gender\"]\n",
    "\n",
    "\n",
    "preprocessing = ColumnTransformer([\n",
    "    (\"num\", num_pipeline, make_column_selector(dtype_include=np.number)),\n",
    "    (\"cat\", cat_pipeline, make_column_selector(dtype_include=object)),\n",
    "], remainder = \"passthrough\")\n",
    "\n",
    "labels = pd.DataFrame(labels) # To pass to imputer\n",
    "labels = imputer_num.fit_transform(labels) #To remove Nan Values"
   ],
   "outputs": [],
   "execution_count": 107
  },
  {
   "cell_type": "markdown",
   "id": "c1034a73-1840-48b2-8950-4224c6de6e34",
   "metadata": {},
   "source": "## **Model Selection** (WIP)"
  },
  {
   "cell_type": "markdown",
   "id": "9be172ca-63d8-4217-9f6b-7ee91e74ec60",
   "metadata": {},
   "source": [
    "> Try out Different Models without tuning hyperparameters too much and see which ones do best"
   ]
  },
  {
   "cell_type": "code",
   "id": "17df96a1-51aa-4f59-9477-533f86480e3d",
   "metadata": {
    "ExecuteTime": {
     "end_time": "2025-05-02T21:42:16.194567Z",
     "start_time": "2025-05-02T21:42:16.072717Z"
    }
   },
   "source": [
    "# Linear Models\n",
    "from sklearn.linear_model import LinearRegression, Lasso, Ridge\n",
    "\n",
    "linear_model = make_pipeline(preprocessing, LinearRegression())\n",
    "linear_model.fit(data, labels)\n",
    "linear_model_predictions = linear_model.predict(data)\n",
    "print(\"Predictions 1:\\n\", linear_model_predictions[:5])\n",
    "\n",
    "\n",
    "ridge_model = make_pipeline(preprocessing, Ridge())\n",
    "ridge_model.fit(data, labels)\n",
    "ridge_model_predictions = ridge_model.predict(data)\n",
    "print(\"\\nPredictions 2:\\n\", ridge_model_predictions[:5])\n",
    "\n",
    "lasso_model = make_pipeline(preprocessing, Lasso())\n",
    "lasso_model.fit(data, labels)\n",
    "lasso_model_predictions = lasso_model.predict(data)\n",
    "print(\"\\nPredictions 3:\\n\", lasso_model_predictions[:5])"
   ],
   "outputs": [
    {
     "name": "stdout",
     "output_type": "stream",
     "text": [
      "Predictions 1:\n",
      " [[ 5.53710818]\n",
      " [10.73770974]\n",
      " [ 7.46284602]\n",
      " [ 6.4768447 ]\n",
      " [ 7.11734412]]\n",
      "\n",
      "Predictions 2:\n",
      " [ 5.53708604 10.73731542  7.46331149  6.476471    7.11759797]\n",
      "\n",
      "Predictions 3:\n",
      " [7.69711382 9.12213456 8.08575584 7.9562085  7.9562085 ]\n"
     ]
    }
   ],
   "execution_count": 108
  },
  {
   "cell_type": "code",
   "id": "53819b68ef909c25",
   "metadata": {
    "ExecuteTime": {
     "end_time": "2025-05-02T21:42:16.275229Z",
     "start_time": "2025-05-02T21:42:16.195565Z"
    }
   },
   "source": [
    "# Decision Tree (Regression)\n",
    "from sklearn.tree import DecisionTreeRegressor\n",
    "\n",
    "decisionTree_model = make_pipeline(preprocessing, DecisionTreeRegressor())\n",
    "decisionTree_model.fit(data, labels)\n",
    "decisionTree_model_predictions = decisionTree_model.predict(data)\n",
    "print(\"Predictions 4:\\n\", decisionTree_model_predictions[:5])"
   ],
   "outputs": [
    {
     "name": "stdout",
     "output_type": "stream",
     "text": [
      "Predictions 4:\n",
      " [ 4. 10.  8.  6.  6.]\n"
     ]
    }
   ],
   "execution_count": 109
  },
  {
   "cell_type": "code",
   "id": "668d4654e834ffae",
   "metadata": {
    "ExecuteTime": {
     "end_time": "2025-05-02T21:42:19.522958Z",
     "start_time": "2025-05-02T21:42:16.276224Z"
    }
   },
   "source": [
    "# Ensembles (Regression)\n",
    "from sklearn.ensemble import  AdaBoostRegressor, RandomForestRegressor, GradientBoostingRegressor, BaggingRegressor, StackingRegressor, VotingRegressor\n",
    "\n",
    "randomForest_model = make_pipeline(preprocessing, RandomForestRegressor())\n",
    "randomForest_model.fit(data, labels)\n",
    "randomForest_model_predictions = randomForest_model.predict(data)\n",
    "print(\"Predictions 5:\\n\", randomForest_model_predictions[:5])\n",
    "\n",
    "adaBoost_model = make_pipeline(preprocessing, AdaBoostRegressor())\n",
    "adaBoost_model.fit(data, labels)\n",
    "adaBoost_model_predictions = adaBoost_model.predict(data)\n",
    "print(\"\\nPredictions 6:\\n\", adaBoost_model_predictions[:5])\n",
    "\n",
    "gradientBoost_model = make_pipeline(preprocessing, GradientBoostingRegressor())\n",
    "gradientBoost_model.fit(data, labels)\n",
    "gradientBoost_model_predictions = gradientBoost_model.predict(data)\n",
    "print(\"\\nPredictions 7:\\n\", gradientBoost_model_predictions[:5])\n",
    "\n",
    "bagging_model = make_pipeline(preprocessing, BaggingRegressor())\n",
    "bagging_model.fit(data, labels)\n",
    "bagging_model_predictions = bagging_model.predict(data)\n",
    "print(\"\\nPredictions 8:\\n\", bagging_model_predictions[:5])\n",
    "\n"
   ],
   "outputs": [
    {
     "name": "stderr",
     "output_type": "stream",
     "text": [
      "C:\\Users\\Morad Elshorbagy\\Desktop\\University\\Git\\DataScienceProject\\Data Science Project\\.venv\\Lib\\site-packages\\sklearn\\base.py:1389: DataConversionWarning: A column-vector y was passed when a 1d array was expected. Please change the shape of y to (n_samples,), for example using ravel().\n",
      "  return fit_method(estimator, *args, **kwargs)\n"
     ]
    },
    {
     "name": "stdout",
     "output_type": "stream",
     "text": [
      "Predictions 5:\n",
      " [ 4.74 10.    7.75  6.34  6.27]\n"
     ]
    },
    {
     "name": "stderr",
     "output_type": "stream",
     "text": [
      "C:\\Users\\Morad Elshorbagy\\Desktop\\University\\Git\\DataScienceProject\\Data Science Project\\.venv\\Lib\\site-packages\\sklearn\\utils\\validation.py:1408: DataConversionWarning: A column-vector y was passed when a 1d array was expected. Please change the shape of y to (n_samples, ), for example using ravel().\n",
      "  y = column_or_1d(y, warn=True)\n"
     ]
    },
    {
     "name": "stdout",
     "output_type": "stream",
     "text": [
      "\n",
      "Predictions 6:\n",
      " [5.71088861 9.7732342  7.44475481 6.50485437 6.50485437]\n"
     ]
    },
    {
     "name": "stderr",
     "output_type": "stream",
     "text": [
      "C:\\Users\\Morad Elshorbagy\\Desktop\\University\\Git\\DataScienceProject\\Data Science Project\\.venv\\Lib\\site-packages\\sklearn\\ensemble\\_gb.py:672: DataConversionWarning: A column-vector y was passed when a 1d array was expected. Please change the shape of y to (n_samples, ), for example using ravel().\n",
      "  y = column_or_1d(y, warn=True)  # TODO: Is this still required?\n"
     ]
    },
    {
     "name": "stdout",
     "output_type": "stream",
     "text": [
      "\n",
      "Predictions 7:\n",
      " [4.92058803 9.98961175 7.39179306 6.61456261 6.52606171]\n"
     ]
    },
    {
     "name": "stderr",
     "output_type": "stream",
     "text": [
      "C:\\Users\\Morad Elshorbagy\\Desktop\\University\\Git\\DataScienceProject\\Data Science Project\\.venv\\Lib\\site-packages\\sklearn\\ensemble\\_bagging.py:568: DataConversionWarning: A column-vector y was passed when a 1d array was expected. Please change the shape of y to (n_samples, ), for example using ravel().\n",
      "  return column_or_1d(y, warn=True)\n"
     ]
    },
    {
     "name": "stdout",
     "output_type": "stream",
     "text": [
      "\n",
      "Predictions 10:\n",
      " [ 4.5 10.   7.4  6.4  5.9]\n"
     ]
    }
   ],
   "execution_count": 110
  },
  {
   "metadata": {
    "ExecuteTime": {
     "end_time": "2025-05-02T22:25:03.012044Z",
     "start_time": "2025-05-02T22:25:02.580555Z"
    }
   },
   "cell_type": "code",
   "source": [
    "# Classification\n",
    "from sklearn.linear_model import LogisticRegression, RidgeClassifier\n",
    "logistic_model = make_pipeline(preprocessing, LogisticRegression())\n",
    "logistic_model.fit(data, labels)\n",
    "logistic_model_predictions = logistic_model.predict(data)\n",
    "print(\"Predictions 1:\\n\", logistic_model_predictions[:5])\n",
    "\n",
    "ridge_class_model = make_pipeline(preprocessing, RidgeClassifier())\n",
    "ridge_class_model.fit(data, labels)\n",
    "ridge_class_model_predictions = ridge_class_model.predict(data)\n",
    "print(\"\\nPredictions 2:\\n\", ridge_class_model_predictions[:5])\n"
   ],
   "id": "1a0a14f5753dd5c5",
   "outputs": [
    {
     "name": "stderr",
     "output_type": "stream",
     "text": [
      "C:\\Users\\Morad Elshorbagy\\Desktop\\University\\Git\\DataScienceProject\\Data Science Project\\.venv\\Lib\\site-packages\\sklearn\\utils\\validation.py:1408: DataConversionWarning: A column-vector y was passed when a 1d array was expected. Please change the shape of y to (n_samples, ), for example using ravel().\n",
      "  y = column_or_1d(y, warn=True)\n"
     ]
    },
    {
     "name": "stdout",
     "output_type": "stream",
     "text": [
      "Predictions 1:\n",
      " [ 5. 10.  7.  6.  7.]\n",
      "\n",
      "Predictions 2:\n",
      " [ 7. 10.  7.  7.  8.]\n"
     ]
    },
    {
     "name": "stderr",
     "output_type": "stream",
     "text": [
      "C:\\Users\\Morad Elshorbagy\\Desktop\\University\\Git\\DataScienceProject\\Data Science Project\\.venv\\Lib\\site-packages\\sklearn\\linear_model\\_logistic.py:465: ConvergenceWarning: lbfgs failed to converge (status=1):\n",
      "STOP: TOTAL NO. OF ITERATIONS REACHED LIMIT.\n",
      "\n",
      "Increase the number of iterations (max_iter) or scale the data as shown in:\n",
      "    https://scikit-learn.org/stable/modules/preprocessing.html\n",
      "Please also refer to the documentation for alternative solver options:\n",
      "    https://scikit-learn.org/stable/modules/linear_model.html#logistic-regression\n",
      "  n_iter_i = _check_optimize_result(\n",
      "C:\\Users\\Morad Elshorbagy\\Desktop\\University\\Git\\DataScienceProject\\Data Science Project\\.venv\\Lib\\site-packages\\sklearn\\linear_model\\_ridge.py:1307: DataConversionWarning: A column-vector y was passed when a 1d array was expected. Please change the shape of y to (n_samples, ), for example using ravel().\n",
      "  y = column_or_1d(y, warn=True)\n"
     ]
    }
   ],
   "execution_count": 119
  },
  {
   "metadata": {
    "ExecuteTime": {
     "end_time": "2025-05-02T22:25:24.160561Z",
     "start_time": "2025-05-02T22:25:24.089730Z"
    }
   },
   "cell_type": "code",
   "source": [
    "# Decision Tree (Classification)\n",
    "from sklearn.tree import DecisionTreeClassifier\n",
    "\n",
    "decisionTree_class_model = make_pipeline(preprocessing, DecisionTreeClassifier())\n",
    "decisionTree_class_model.fit(data, labels)\n",
    "decisionTree_class_model_predictions = decisionTree_class_model.predict(data)\n",
    "print(\"Predictions 3:\\n\", decisionTree_class_model_predictions[:5])\n",
    "\n"
   ],
   "id": "9581af410af9b8",
   "outputs": [
    {
     "name": "stdout",
     "output_type": "stream",
     "text": [
      "Predictions 3:\n",
      " [ 4. 10.  8.  6.  6.]\n"
     ]
    }
   ],
   "execution_count": 120
  },
  {
   "metadata": {
    "ExecuteTime": {
     "end_time": "2025-05-02T22:25:37.053895Z",
     "start_time": "2025-05-02T22:25:28.643435Z"
    }
   },
   "cell_type": "code",
   "source": [
    "# Ensemble(Classification)\n",
    "from sklearn.ensemble import RandomForestClassifier, AdaBoostClassifier, GradientBoostingClassifier,  BaggingClassifier, StackingClassifier, VotingClassifier\n",
    "\n",
    "randomForest_class_model = make_pipeline(preprocessing, RandomForestClassifier())\n",
    "randomForest_class_model.fit(data, labels)\n",
    "randomForest_class_model_predictions = randomForest_class_model.predict(data)\n",
    "print(\"Predictions 4:\\n\", randomForest_class_model_predictions[:5])\n",
    "\n",
    "adaBoost_class_model = make_pipeline(preprocessing, AdaBoostClassifier())\n",
    "adaBoost_class_model.fit(data, labels)\n",
    "adaBoost_class_model_predictions = adaBoost_class_model.predict(data)\n",
    "print(\"\\nPredictions 5:\\n\", adaBoost_class_model_predictions[:5])\n",
    "\n",
    "gradientBoost_class_model = make_pipeline(preprocessing, GradientBoostingClassifier())\n",
    "gradientBoost_class_model.fit(data, labels)\n",
    "gradientBoost_class_model_predictions = gradientBoost_class_model.predict(data)\n",
    "print(\"\\nPredictions 6:\\n\", gradientBoost_class_model_predictions[:5])\n",
    "\n",
    "bagging_class_model = make_pipeline(preprocessing, BaggingClassifier())\n",
    "bagging_class_model.fit(data, labels)\n",
    "bagging_class_model_predictions = bagging_class_model.predict(data)\n",
    "print(\"\\nPredictions 7:\\n\", bagging_class_model_predictions[:5])\n"
   ],
   "id": "fd333eeca268a06c",
   "outputs": [
    {
     "name": "stderr",
     "output_type": "stream",
     "text": [
      "C:\\Users\\Morad Elshorbagy\\Desktop\\University\\Git\\DataScienceProject\\Data Science Project\\.venv\\Lib\\site-packages\\sklearn\\base.py:1389: DataConversionWarning: A column-vector y was passed when a 1d array was expected. Please change the shape of y to (n_samples,), for example using ravel().\n",
      "  return fit_method(estimator, *args, **kwargs)\n"
     ]
    },
    {
     "name": "stdout",
     "output_type": "stream",
     "text": [
      "Predictions 4:\n",
      " [ 4. 10.  8.  6.  6.]\n"
     ]
    },
    {
     "name": "stderr",
     "output_type": "stream",
     "text": [
      "C:\\Users\\Morad Elshorbagy\\Desktop\\University\\Git\\DataScienceProject\\Data Science Project\\.venv\\Lib\\site-packages\\sklearn\\utils\\validation.py:1408: DataConversionWarning: A column-vector y was passed when a 1d array was expected. Please change the shape of y to (n_samples, ), for example using ravel().\n",
      "  y = column_or_1d(y, warn=True)\n"
     ]
    },
    {
     "name": "stdout",
     "output_type": "stream",
     "text": [
      "\n",
      "Predictions 5:\n",
      " [ 4. 10.  8.  7.  7.]\n"
     ]
    },
    {
     "name": "stderr",
     "output_type": "stream",
     "text": [
      "C:\\Users\\Morad Elshorbagy\\Desktop\\University\\Git\\DataScienceProject\\Data Science Project\\.venv\\Lib\\site-packages\\sklearn\\preprocessing\\_label.py:110: DataConversionWarning: A column-vector y was passed when a 1d array was expected. Please change the shape of y to (n_samples, ), for example using ravel().\n",
      "  y = column_or_1d(y, warn=True)\n"
     ]
    },
    {
     "name": "stdout",
     "output_type": "stream",
     "text": [
      "\n",
      "Predictions 6:\n",
      " [ 4. 10.  7.  6.  7.]\n"
     ]
    },
    {
     "name": "stderr",
     "output_type": "stream",
     "text": [
      "C:\\Users\\Morad Elshorbagy\\Desktop\\University\\Git\\DataScienceProject\\Data Science Project\\.venv\\Lib\\site-packages\\sklearn\\ensemble\\_bagging.py:878: DataConversionWarning: A column-vector y was passed when a 1d array was expected. Please change the shape of y to (n_samples, ), for example using ravel().\n",
      "  y = column_or_1d(y, warn=True)\n"
     ]
    },
    {
     "name": "stdout",
     "output_type": "stream",
     "text": [
      "\n",
      "Predictions 7:\n",
      " [ 4. 10.  8.  6.  6.]\n"
     ]
    }
   ],
   "execution_count": 121
  },
  {
   "cell_type": "code",
   "id": "311af54f295788ee",
   "metadata": {
    "ExecuteTime": {
     "end_time": "2025-05-02T21:42:19.553014Z",
     "start_time": "2025-05-02T21:42:19.545514Z"
    }
   },
   "source": "# Model 7:",
   "outputs": [],
   "execution_count": 114
  },
  {
   "metadata": {
    "ExecuteTime": {
     "end_time": "2025-05-03T10:16:52.241882Z",
     "start_time": "2025-05-03T10:16:52.228817Z"
    }
   },
   "cell_type": "code",
   "source": [
    "#Error Rates (Linear Models):\n",
    "from sklearn.metrics import r2_score, f1_score, auc,\n",
    "model1_error = r2_score(labels, linear_model_predictions)\n",
    "print(\"Model 1 Train Error:\", model1_error)\n",
    "\n",
    "model2_error = r2_score(labels, ridge_model_predictions)\n",
    "print(\"Model 2 Train Error:\", model2_error)\n",
    "\n",
    "model3_error = r2_score(labels, lasso_model_predictions)\n",
    "print(\"Model 3 Train Error:\", model3_error)\n",
    "\n",
    "model4_error = r2_score(labels, decisionTree_model_predictions)\n",
    "print(\"Model 4 Train Error:\", model4_error)\n",
    "\n",
    "model5_error = r2_score(labels, randomForest_model_predictions)\n",
    "print(\"Model 5 Train Error:\", model5_error)\n",
    "\n",
    "model6_error = r2_score(labels, adaBoost_model_predictions)\n",
    "print(\"Model 6 Train Error:\", model6_error)\n",
    "\n",
    "model7_error = r2_score(labels, gradientBoost_model_predictions)\n",
    "print(\"Model 7 Train Error:\", model7_error)\n",
    "\n",
    "model8_error = r2_score(labels, bagging_model_predictions)\n",
    "print(\"Model 8 Train Error:\", model8_error)\n"
   ],
   "id": "d3efadf2b0f3d055",
   "outputs": [
    {
     "name": "stdout",
     "output_type": "stream",
     "text": [
      "Model 1 Error: 0.6762808897731402\n",
      "Model 2 Error: 0.6762808560021945\n",
      "Model 3 Error: 0.3052861156050126\n",
      "Model 4 Error: 0.99988282606975\n",
      "Model 5 Error: 0.9624669959766252\n",
      "Model 6 Error: 0.7331752586192539\n",
      "Model 7 Error: 0.7713091318898442\n",
      "Model 8 Error: 0.9484855066204884\n"
     ]
    }
   ],
   "execution_count": 126
  },
  {
   "metadata": {
    "ExecuteTime": {
     "end_time": "2025-05-02T22:25:43.505083Z",
     "start_time": "2025-05-02T22:25:43.492847Z"
    }
   },
   "cell_type": "code",
   "source": [
    "# Need to add additional evaluation metrics for classification models (Precision/Recall/F1)\n",
    "model10_error = r2_score(labels, logistic_model_predictions)\n",
    "print(\"Model 10 Train Error:\", model10_error)\n",
    "\n",
    "model11_error = r2_score(labels, ridge_class_model_predictions)\n",
    "print(\"Model 11 Train Error:\", model11_error)\n",
    "\n",
    "model12_error = r2_score(labels, decisionTree_class_model_predictions)\n",
    "print(\"Model 12 Train Error:\", model12_error)\n",
    "\n",
    "model13_error = r2_score(labels, randomForest_class_model_predictions)\n",
    "print(\"Model 13 Train Error:\", model13_error)\n",
    "\n",
    "model14_error = r2_score(labels, adaBoost_class_model_predictions)\n",
    "print(\"Model 14 Train Error:\", model14_error)\n",
    "\n",
    "model15_error = r2_score(labels, gradientBoost_class_model_predictions)\n",
    "print(\"Model 15 Train Error:\", model15_error)\n",
    "\n",
    "model16_error = r2_score(labels, bagging_class_model_predictions)\n",
    "print(\"Model 16 Train Error:\", model16_error)"
   ],
   "id": "1c73c151270bf05a",
   "outputs": [
    {
     "name": "stdout",
     "output_type": "stream",
     "text": [
      "Model 9 Error: 0.9624669959766252\n",
      "Model 10 Error: 0.7164781467717494\n",
      "Model 11 Error: 0.4073733187722486\n",
      "Model 12 Error: 0.9997656521395\n",
      "Model 13 Error: 0.9997656521395\n",
      "Model 14 Error: 0.636877990155249\n",
      "Model 15 Error: 0.7309686561459994\n",
      "Model 16 Error: 0.9852360847885\n"
     ]
    }
   ],
   "execution_count": 122
  },
  {
   "metadata": {},
   "cell_type": "markdown",
   "source": "## **Cross-Validation**",
   "id": "e2aaa3c6d8350b16"
  },
  {
   "metadata": {
    "ExecuteTime": {
     "end_time": "2025-05-03T13:31:14.619557Z",
     "start_time": "2025-05-03T13:30:28.338386Z"
    }
   },
   "cell_type": "code",
   "source": [
    "from sklearn.model_selection import cross_val_score\n",
    "\n",
    "model1_CV = cross_val_score(linear_model, data, labels, cv=5, scoring='r2')\n",
    "print(f\"model 1 CV score:\\n\" , pd.Series(model1_CV).describe())\n",
    "\n",
    "model2_CV = cross_val_score(ridge_model, data, labels, cv = 5, scoring = 'r2')\n",
    "print(f\"model 2 CV score:\\n\" , pd.Series(model2_CV).describe())\n",
    "\n",
    "model3_CV = cross_val_score(lasso_model, data, labels, cv = 5, scoring = 'r2')\n",
    "print(f\"model 3 CV score:\\n\" , pd.Series(model3_CV).describe())\n",
    "\n",
    "model4_CV = cross_val_score(decisionTree_model, data, labels, cv = 5, scoring = 'r2')\n",
    "print(f\"model 4 CV score:\\n\" , pd.Series(model4_CV).describe())\n",
    "\n",
    "model5_CV = cross_val_score(randomForest_model, data, labels, cv = 5, scoring = 'r2')\n",
    "print(f\"model 5 CV score:\\n\" , pd.Series(model5_CV).describe())\n",
    "\n",
    "model6_CV = cross_val_score(adaBoost_model, data, labels, cv = 5, scoring = 'r2')\n",
    "print(f\"model 6 CV score:\\n\" , pd.Series(model6_CV).describe())\n",
    "\n",
    "model7_CV = cross_val_score(gradientBoost_model, data, labels, cv = 5, scoring = 'r2')\n",
    "print(f\"model 7 CV score:\\n\" , pd.Series(model7_CV).describe())\n",
    "\n",
    "model8_CV = cross_val_score(bagging_model, data, labels, cv = 5, scoring = 'r2')\n",
    "print(f\"model 8 CV score:\\n\" , pd.Series(model8_CV).describe())\n",
    "\n",
    "model10_CV = cross_val_score(logistic_model, data, labels, cv = 5, scoring = 'r2')\n",
    "print(f\"model 10 CV score:\\n\" , pd.Series(model10_CV).describe())\n",
    "\n",
    "model11_CV = cross_val_score(ridge_class_model, data, labels, cv = 5, scoring = 'r2')\n",
    "print(f\"model 11 CV score:\\n\" , pd.Series(model11_CV).describe())\n",
    "\n",
    "model12_CV = cross_val_score(decisionTree_class_model, data, labels, cv = 5, scoring = 'r2')\n",
    "print(f\"model 12 CV score:\\n\" , pd.Series(model12_CV).describe())\n",
    "\n",
    "model13_CV = cross_val_score(randomForest_class_model, data, labels, cv = 5, scoring = 'r2')\n",
    "print(f\"model 13 CV score:\\n\", pd.Series(model13_CV).describe())\n",
    "\n",
    "model14_CV = cross_val_score(adaBoost_class_model, data, labels, cv = 5, scoring = 'r2')\n",
    "print(f\"model 14 CV score:\\n\", pd.Series(model14_CV).describe())\n",
    "\n",
    "model15_CV = cross_val_score(gradientBoost_class_model, data, labels, cv = 5, scoring = 'r2')\n",
    "print(f\"model 15 CV score:\\n\", pd.Series(model15_CV).describe())\n",
    "\n",
    "model16_CV = cross_val_score(bagging_class_model, data, labels, cv = 5, scoring = 'r2')\n",
    "print(f\"model 16 CV score:\\n\", pd.Series(model16_CV.describe()))"
   ],
   "id": "9c3564121b4871e3",
   "outputs": [
    {
     "name": "stdout",
     "output_type": "stream",
     "text": [
      "model 1 CV score:\n",
      " count    5.000000\n",
      "mean     0.674917\n",
      "std      0.008040\n",
      "min      0.664033\n",
      "25%      0.668551\n",
      "50%      0.680290\n",
      "75%      0.680530\n",
      "max      0.681181\n",
      "dtype: float64\n",
      "model 2 CV score:\n",
      " count    5.000000\n",
      "mean     0.674918\n",
      "std      0.008043\n",
      "min      0.664035\n",
      "25%      0.668543\n",
      "50%      0.680301\n",
      "75%      0.680526\n",
      "max      0.681182\n",
      "dtype: float64\n",
      "model 3 CV score:\n",
      " count    5.000000\n",
      "mean     0.304546\n",
      "std      0.007710\n",
      "min      0.294215\n",
      "25%      0.300227\n",
      "50%      0.305367\n",
      "75%      0.308629\n",
      "max      0.314295\n",
      "dtype: float64\n",
      "model 4 CV score:\n",
      " count    5.000000\n",
      "mean     0.468638\n",
      "std      0.017499\n",
      "min      0.450990\n",
      "25%      0.453829\n",
      "50%      0.465709\n",
      "75%      0.480876\n",
      "max      0.491783\n",
      "dtype: float64\n"
     ]
    },
    {
     "name": "stderr",
     "output_type": "stream",
     "text": [
      "C:\\Users\\Morad Elshorbagy\\Desktop\\University\\Git\\DataScienceProject\\Data Science Project\\.venv\\Lib\\site-packages\\sklearn\\base.py:1389: DataConversionWarning: A column-vector y was passed when a 1d array was expected. Please change the shape of y to (n_samples,), for example using ravel().\n",
      "  return fit_method(estimator, *args, **kwargs)\n",
      "C:\\Users\\Morad Elshorbagy\\Desktop\\University\\Git\\DataScienceProject\\Data Science Project\\.venv\\Lib\\site-packages\\sklearn\\base.py:1389: DataConversionWarning: A column-vector y was passed when a 1d array was expected. Please change the shape of y to (n_samples,), for example using ravel().\n",
      "  return fit_method(estimator, *args, **kwargs)\n",
      "C:\\Users\\Morad Elshorbagy\\Desktop\\University\\Git\\DataScienceProject\\Data Science Project\\.venv\\Lib\\site-packages\\sklearn\\base.py:1389: DataConversionWarning: A column-vector y was passed when a 1d array was expected. Please change the shape of y to (n_samples,), for example using ravel().\n",
      "  return fit_method(estimator, *args, **kwargs)\n",
      "C:\\Users\\Morad Elshorbagy\\Desktop\\University\\Git\\DataScienceProject\\Data Science Project\\.venv\\Lib\\site-packages\\sklearn\\base.py:1389: DataConversionWarning: A column-vector y was passed when a 1d array was expected. Please change the shape of y to (n_samples,), for example using ravel().\n",
      "  return fit_method(estimator, *args, **kwargs)\n",
      "C:\\Users\\Morad Elshorbagy\\Desktop\\University\\Git\\DataScienceProject\\Data Science Project\\.venv\\Lib\\site-packages\\sklearn\\base.py:1389: DataConversionWarning: A column-vector y was passed when a 1d array was expected. Please change the shape of y to (n_samples,), for example using ravel().\n",
      "  return fit_method(estimator, *args, **kwargs)\n"
     ]
    },
    {
     "name": "stdout",
     "output_type": "stream",
     "text": [
      "model 5 CV score:\n",
      " count    5.000000\n",
      "mean     0.732134\n",
      "std      0.003429\n",
      "min      0.727076\n",
      "25%      0.731803\n",
      "50%      0.732426\n",
      "75%      0.732648\n",
      "max      0.736715\n",
      "dtype: float64\n"
     ]
    },
    {
     "name": "stderr",
     "output_type": "stream",
     "text": [
      "C:\\Users\\Morad Elshorbagy\\Desktop\\University\\Git\\DataScienceProject\\Data Science Project\\.venv\\Lib\\site-packages\\sklearn\\utils\\validation.py:1408: DataConversionWarning: A column-vector y was passed when a 1d array was expected. Please change the shape of y to (n_samples, ), for example using ravel().\n",
      "  y = column_or_1d(y, warn=True)\n",
      "C:\\Users\\Morad Elshorbagy\\Desktop\\University\\Git\\DataScienceProject\\Data Science Project\\.venv\\Lib\\site-packages\\sklearn\\utils\\validation.py:1408: DataConversionWarning: A column-vector y was passed when a 1d array was expected. Please change the shape of y to (n_samples, ), for example using ravel().\n",
      "  y = column_or_1d(y, warn=True)\n",
      "C:\\Users\\Morad Elshorbagy\\Desktop\\University\\Git\\DataScienceProject\\Data Science Project\\.venv\\Lib\\site-packages\\sklearn\\utils\\validation.py:1408: DataConversionWarning: A column-vector y was passed when a 1d array was expected. Please change the shape of y to (n_samples, ), for example using ravel().\n",
      "  y = column_or_1d(y, warn=True)\n",
      "C:\\Users\\Morad Elshorbagy\\Desktop\\University\\Git\\DataScienceProject\\Data Science Project\\.venv\\Lib\\site-packages\\sklearn\\utils\\validation.py:1408: DataConversionWarning: A column-vector y was passed when a 1d array was expected. Please change the shape of y to (n_samples, ), for example using ravel().\n",
      "  y = column_or_1d(y, warn=True)\n",
      "C:\\Users\\Morad Elshorbagy\\Desktop\\University\\Git\\DataScienceProject\\Data Science Project\\.venv\\Lib\\site-packages\\sklearn\\utils\\validation.py:1408: DataConversionWarning: A column-vector y was passed when a 1d array was expected. Please change the shape of y to (n_samples, ), for example using ravel().\n",
      "  y = column_or_1d(y, warn=True)\n",
      "C:\\Users\\Morad Elshorbagy\\Desktop\\University\\Git\\DataScienceProject\\Data Science Project\\.venv\\Lib\\site-packages\\sklearn\\ensemble\\_gb.py:672: DataConversionWarning: A column-vector y was passed when a 1d array was expected. Please change the shape of y to (n_samples, ), for example using ravel().\n",
      "  y = column_or_1d(y, warn=True)  # TODO: Is this still required?\n"
     ]
    },
    {
     "name": "stdout",
     "output_type": "stream",
     "text": [
      "model 6 CV score:\n",
      " count    5.000000\n",
      "mean     0.716367\n",
      "std      0.024128\n",
      "min      0.680497\n",
      "25%      0.706002\n",
      "50%      0.720051\n",
      "75%      0.734840\n",
      "max      0.740444\n",
      "dtype: float64\n"
     ]
    },
    {
     "name": "stderr",
     "output_type": "stream",
     "text": [
      "C:\\Users\\Morad Elshorbagy\\Desktop\\University\\Git\\DataScienceProject\\Data Science Project\\.venv\\Lib\\site-packages\\sklearn\\ensemble\\_gb.py:672: DataConversionWarning: A column-vector y was passed when a 1d array was expected. Please change the shape of y to (n_samples, ), for example using ravel().\n",
      "  y = column_or_1d(y, warn=True)  # TODO: Is this still required?\n",
      "C:\\Users\\Morad Elshorbagy\\Desktop\\University\\Git\\DataScienceProject\\Data Science Project\\.venv\\Lib\\site-packages\\sklearn\\ensemble\\_gb.py:672: DataConversionWarning: A column-vector y was passed when a 1d array was expected. Please change the shape of y to (n_samples, ), for example using ravel().\n",
      "  y = column_or_1d(y, warn=True)  # TODO: Is this still required?\n",
      "C:\\Users\\Morad Elshorbagy\\Desktop\\University\\Git\\DataScienceProject\\Data Science Project\\.venv\\Lib\\site-packages\\sklearn\\ensemble\\_gb.py:672: DataConversionWarning: A column-vector y was passed when a 1d array was expected. Please change the shape of y to (n_samples, ), for example using ravel().\n",
      "  y = column_or_1d(y, warn=True)  # TODO: Is this still required?\n",
      "C:\\Users\\Morad Elshorbagy\\Desktop\\University\\Git\\DataScienceProject\\Data Science Project\\.venv\\Lib\\site-packages\\sklearn\\ensemble\\_gb.py:672: DataConversionWarning: A column-vector y was passed when a 1d array was expected. Please change the shape of y to (n_samples, ), for example using ravel().\n",
      "  y = column_or_1d(y, warn=True)  # TODO: Is this still required?\n"
     ]
    },
    {
     "name": "stdout",
     "output_type": "stream",
     "text": [
      "model 7 CV score:\n",
      " count    5.000000\n",
      "mean     0.756171\n",
      "std      0.006324\n",
      "min      0.751411\n",
      "25%      0.751972\n",
      "50%      0.754959\n",
      "75%      0.755489\n",
      "max      0.767022\n",
      "dtype: float64\n"
     ]
    },
    {
     "name": "stderr",
     "output_type": "stream",
     "text": [
      "C:\\Users\\Morad Elshorbagy\\Desktop\\University\\Git\\DataScienceProject\\Data Science Project\\.venv\\Lib\\site-packages\\sklearn\\ensemble\\_bagging.py:568: DataConversionWarning: A column-vector y was passed when a 1d array was expected. Please change the shape of y to (n_samples, ), for example using ravel().\n",
      "  return column_or_1d(y, warn=True)\n",
      "C:\\Users\\Morad Elshorbagy\\Desktop\\University\\Git\\DataScienceProject\\Data Science Project\\.venv\\Lib\\site-packages\\sklearn\\ensemble\\_bagging.py:568: DataConversionWarning: A column-vector y was passed when a 1d array was expected. Please change the shape of y to (n_samples, ), for example using ravel().\n",
      "  return column_or_1d(y, warn=True)\n",
      "C:\\Users\\Morad Elshorbagy\\Desktop\\University\\Git\\DataScienceProject\\Data Science Project\\.venv\\Lib\\site-packages\\sklearn\\ensemble\\_bagging.py:568: DataConversionWarning: A column-vector y was passed when a 1d array was expected. Please change the shape of y to (n_samples, ), for example using ravel().\n",
      "  return column_or_1d(y, warn=True)\n",
      "C:\\Users\\Morad Elshorbagy\\Desktop\\University\\Git\\DataScienceProject\\Data Science Project\\.venv\\Lib\\site-packages\\sklearn\\ensemble\\_bagging.py:568: DataConversionWarning: A column-vector y was passed when a 1d array was expected. Please change the shape of y to (n_samples, ), for example using ravel().\n",
      "  return column_or_1d(y, warn=True)\n",
      "C:\\Users\\Morad Elshorbagy\\Desktop\\University\\Git\\DataScienceProject\\Data Science Project\\.venv\\Lib\\site-packages\\sklearn\\ensemble\\_bagging.py:568: DataConversionWarning: A column-vector y was passed when a 1d array was expected. Please change the shape of y to (n_samples, ), for example using ravel().\n",
      "  return column_or_1d(y, warn=True)\n",
      "C:\\Users\\Morad Elshorbagy\\Desktop\\University\\Git\\DataScienceProject\\Data Science Project\\.venv\\Lib\\site-packages\\sklearn\\model_selection\\_split.py:805: UserWarning: The least populated class in y has only 1 members, which is less than n_splits=5.\n",
      "  warnings.warn(\n",
      "C:\\Users\\Morad Elshorbagy\\Desktop\\University\\Git\\DataScienceProject\\Data Science Project\\.venv\\Lib\\site-packages\\sklearn\\utils\\validation.py:1408: DataConversionWarning: A column-vector y was passed when a 1d array was expected. Please change the shape of y to (n_samples, ), for example using ravel().\n",
      "  y = column_or_1d(y, warn=True)\n"
     ]
    },
    {
     "name": "stdout",
     "output_type": "stream",
     "text": [
      "model 8 CV score:\n",
      " count    5.000000\n",
      "mean     0.706256\n",
      "std      0.005282\n",
      "min      0.697580\n",
      "25%      0.705423\n",
      "50%      0.708200\n",
      "75%      0.708764\n",
      "max      0.711313\n",
      "dtype: float64\n"
     ]
    },
    {
     "name": "stderr",
     "output_type": "stream",
     "text": [
      "C:\\Users\\Morad Elshorbagy\\Desktop\\University\\Git\\DataScienceProject\\Data Science Project\\.venv\\Lib\\site-packages\\sklearn\\linear_model\\_logistic.py:465: ConvergenceWarning: lbfgs failed to converge (status=1):\n",
      "STOP: TOTAL NO. OF ITERATIONS REACHED LIMIT.\n",
      "\n",
      "Increase the number of iterations (max_iter) or scale the data as shown in:\n",
      "    https://scikit-learn.org/stable/modules/preprocessing.html\n",
      "Please also refer to the documentation for alternative solver options:\n",
      "    https://scikit-learn.org/stable/modules/linear_model.html#logistic-regression\n",
      "  n_iter_i = _check_optimize_result(\n",
      "C:\\Users\\Morad Elshorbagy\\Desktop\\University\\Git\\DataScienceProject\\Data Science Project\\.venv\\Lib\\site-packages\\sklearn\\utils\\validation.py:1408: DataConversionWarning: A column-vector y was passed when a 1d array was expected. Please change the shape of y to (n_samples, ), for example using ravel().\n",
      "  y = column_or_1d(y, warn=True)\n",
      "C:\\Users\\Morad Elshorbagy\\Desktop\\University\\Git\\DataScienceProject\\Data Science Project\\.venv\\Lib\\site-packages\\sklearn\\linear_model\\_logistic.py:465: ConvergenceWarning: lbfgs failed to converge (status=1):\n",
      "STOP: TOTAL NO. OF ITERATIONS REACHED LIMIT.\n",
      "\n",
      "Increase the number of iterations (max_iter) or scale the data as shown in:\n",
      "    https://scikit-learn.org/stable/modules/preprocessing.html\n",
      "Please also refer to the documentation for alternative solver options:\n",
      "    https://scikit-learn.org/stable/modules/linear_model.html#logistic-regression\n",
      "  n_iter_i = _check_optimize_result(\n",
      "C:\\Users\\Morad Elshorbagy\\Desktop\\University\\Git\\DataScienceProject\\Data Science Project\\.venv\\Lib\\site-packages\\sklearn\\utils\\validation.py:1408: DataConversionWarning: A column-vector y was passed when a 1d array was expected. Please change the shape of y to (n_samples, ), for example using ravel().\n",
      "  y = column_or_1d(y, warn=True)\n",
      "C:\\Users\\Morad Elshorbagy\\Desktop\\University\\Git\\DataScienceProject\\Data Science Project\\.venv\\Lib\\site-packages\\sklearn\\linear_model\\_logistic.py:465: ConvergenceWarning: lbfgs failed to converge (status=1):\n",
      "STOP: TOTAL NO. OF ITERATIONS REACHED LIMIT.\n",
      "\n",
      "Increase the number of iterations (max_iter) or scale the data as shown in:\n",
      "    https://scikit-learn.org/stable/modules/preprocessing.html\n",
      "Please also refer to the documentation for alternative solver options:\n",
      "    https://scikit-learn.org/stable/modules/linear_model.html#logistic-regression\n",
      "  n_iter_i = _check_optimize_result(\n",
      "C:\\Users\\Morad Elshorbagy\\Desktop\\University\\Git\\DataScienceProject\\Data Science Project\\.venv\\Lib\\site-packages\\sklearn\\utils\\validation.py:1408: DataConversionWarning: A column-vector y was passed when a 1d array was expected. Please change the shape of y to (n_samples, ), for example using ravel().\n",
      "  y = column_or_1d(y, warn=True)\n",
      "C:\\Users\\Morad Elshorbagy\\Desktop\\University\\Git\\DataScienceProject\\Data Science Project\\.venv\\Lib\\site-packages\\sklearn\\linear_model\\_logistic.py:465: ConvergenceWarning: lbfgs failed to converge (status=1):\n",
      "STOP: TOTAL NO. OF ITERATIONS REACHED LIMIT.\n",
      "\n",
      "Increase the number of iterations (max_iter) or scale the data as shown in:\n",
      "    https://scikit-learn.org/stable/modules/preprocessing.html\n",
      "Please also refer to the documentation for alternative solver options:\n",
      "    https://scikit-learn.org/stable/modules/linear_model.html#logistic-regression\n",
      "  n_iter_i = _check_optimize_result(\n",
      "C:\\Users\\Morad Elshorbagy\\Desktop\\University\\Git\\DataScienceProject\\Data Science Project\\.venv\\Lib\\site-packages\\sklearn\\utils\\validation.py:1408: DataConversionWarning: A column-vector y was passed when a 1d array was expected. Please change the shape of y to (n_samples, ), for example using ravel().\n",
      "  y = column_or_1d(y, warn=True)\n",
      "C:\\Users\\Morad Elshorbagy\\Desktop\\University\\Git\\DataScienceProject\\Data Science Project\\.venv\\Lib\\site-packages\\sklearn\\linear_model\\_logistic.py:465: ConvergenceWarning: lbfgs failed to converge (status=1):\n",
      "STOP: TOTAL NO. OF ITERATIONS REACHED LIMIT.\n",
      "\n",
      "Increase the number of iterations (max_iter) or scale the data as shown in:\n",
      "    https://scikit-learn.org/stable/modules/preprocessing.html\n",
      "Please also refer to the documentation for alternative solver options:\n",
      "    https://scikit-learn.org/stable/modules/linear_model.html#logistic-regression\n",
      "  n_iter_i = _check_optimize_result(\n"
     ]
    },
    {
     "name": "stdout",
     "output_type": "stream",
     "text": [
      "model 10 CV score:\n",
      " count    5.000000\n",
      "mean     0.710454\n",
      "std      0.003426\n",
      "min      0.706025\n",
      "25%      0.707916\n",
      "50%      0.711836\n",
      "75%      0.711947\n",
      "max      0.714548\n",
      "dtype: float64\n",
      "model 11 CV score:\n",
      " count    5.000000\n",
      "mean     0.400421\n",
      "std      0.013980\n",
      "min      0.379472\n",
      "25%      0.394338\n",
      "50%      0.404484\n",
      "75%      0.408327\n",
      "max      0.415483\n",
      "dtype: float64\n"
     ]
    },
    {
     "name": "stderr",
     "output_type": "stream",
     "text": [
      "C:\\Users\\Morad Elshorbagy\\Desktop\\University\\Git\\DataScienceProject\\Data Science Project\\.venv\\Lib\\site-packages\\sklearn\\model_selection\\_split.py:805: UserWarning: The least populated class in y has only 1 members, which is less than n_splits=5.\n",
      "  warnings.warn(\n",
      "C:\\Users\\Morad Elshorbagy\\Desktop\\University\\Git\\DataScienceProject\\Data Science Project\\.venv\\Lib\\site-packages\\sklearn\\linear_model\\_ridge.py:1307: DataConversionWarning: A column-vector y was passed when a 1d array was expected. Please change the shape of y to (n_samples, ), for example using ravel().\n",
      "  y = column_or_1d(y, warn=True)\n",
      "C:\\Users\\Morad Elshorbagy\\Desktop\\University\\Git\\DataScienceProject\\Data Science Project\\.venv\\Lib\\site-packages\\sklearn\\linear_model\\_ridge.py:1307: DataConversionWarning: A column-vector y was passed when a 1d array was expected. Please change the shape of y to (n_samples, ), for example using ravel().\n",
      "  y = column_or_1d(y, warn=True)\n",
      "C:\\Users\\Morad Elshorbagy\\Desktop\\University\\Git\\DataScienceProject\\Data Science Project\\.venv\\Lib\\site-packages\\sklearn\\linear_model\\_ridge.py:1307: DataConversionWarning: A column-vector y was passed when a 1d array was expected. Please change the shape of y to (n_samples, ), for example using ravel().\n",
      "  y = column_or_1d(y, warn=True)\n",
      "C:\\Users\\Morad Elshorbagy\\Desktop\\University\\Git\\DataScienceProject\\Data Science Project\\.venv\\Lib\\site-packages\\sklearn\\linear_model\\_ridge.py:1307: DataConversionWarning: A column-vector y was passed when a 1d array was expected. Please change the shape of y to (n_samples, ), for example using ravel().\n",
      "  y = column_or_1d(y, warn=True)\n",
      "C:\\Users\\Morad Elshorbagy\\Desktop\\University\\Git\\DataScienceProject\\Data Science Project\\.venv\\Lib\\site-packages\\sklearn\\linear_model\\_ridge.py:1307: DataConversionWarning: A column-vector y was passed when a 1d array was expected. Please change the shape of y to (n_samples, ), for example using ravel().\n",
      "  y = column_or_1d(y, warn=True)\n",
      "C:\\Users\\Morad Elshorbagy\\Desktop\\University\\Git\\DataScienceProject\\Data Science Project\\.venv\\Lib\\site-packages\\sklearn\\model_selection\\_split.py:805: UserWarning: The least populated class in y has only 1 members, which is less than n_splits=5.\n",
      "  warnings.warn(\n"
     ]
    },
    {
     "name": "stdout",
     "output_type": "stream",
     "text": [
      "model 12 CV score:\n",
      " count    5.000000\n",
      "mean     0.507768\n",
      "std      0.008577\n",
      "min      0.498781\n",
      "25%      0.502560\n",
      "50%      0.503967\n",
      "75%      0.514527\n",
      "max      0.519004\n",
      "dtype: float64\n"
     ]
    },
    {
     "name": "stderr",
     "output_type": "stream",
     "text": [
      "C:\\Users\\Morad Elshorbagy\\Desktop\\University\\Git\\DataScienceProject\\Data Science Project\\.venv\\Lib\\site-packages\\sklearn\\model_selection\\_split.py:805: UserWarning: The least populated class in y has only 1 members, which is less than n_splits=5.\n",
      "  warnings.warn(\n",
      "C:\\Users\\Morad Elshorbagy\\Desktop\\University\\Git\\DataScienceProject\\Data Science Project\\.venv\\Lib\\site-packages\\sklearn\\base.py:1389: DataConversionWarning: A column-vector y was passed when a 1d array was expected. Please change the shape of y to (n_samples,), for example using ravel().\n",
      "  return fit_method(estimator, *args, **kwargs)\n",
      "C:\\Users\\Morad Elshorbagy\\Desktop\\University\\Git\\DataScienceProject\\Data Science Project\\.venv\\Lib\\site-packages\\sklearn\\base.py:1389: DataConversionWarning: A column-vector y was passed when a 1d array was expected. Please change the shape of y to (n_samples,), for example using ravel().\n",
      "  return fit_method(estimator, *args, **kwargs)\n",
      "C:\\Users\\Morad Elshorbagy\\Desktop\\University\\Git\\DataScienceProject\\Data Science Project\\.venv\\Lib\\site-packages\\sklearn\\base.py:1389: DataConversionWarning: A column-vector y was passed when a 1d array was expected. Please change the shape of y to (n_samples,), for example using ravel().\n",
      "  return fit_method(estimator, *args, **kwargs)\n",
      "C:\\Users\\Morad Elshorbagy\\Desktop\\University\\Git\\DataScienceProject\\Data Science Project\\.venv\\Lib\\site-packages\\sklearn\\base.py:1389: DataConversionWarning: A column-vector y was passed when a 1d array was expected. Please change the shape of y to (n_samples,), for example using ravel().\n",
      "  return fit_method(estimator, *args, **kwargs)\n",
      "C:\\Users\\Morad Elshorbagy\\Desktop\\University\\Git\\DataScienceProject\\Data Science Project\\.venv\\Lib\\site-packages\\sklearn\\base.py:1389: DataConversionWarning: A column-vector y was passed when a 1d array was expected. Please change the shape of y to (n_samples,), for example using ravel().\n",
      "  return fit_method(estimator, *args, **kwargs)\n"
     ]
    },
    {
     "name": "stdout",
     "output_type": "stream",
     "text": [
      "model 13 CV score:\n",
      " count    5.000000\n",
      "mean     0.659997\n",
      "std      0.006587\n",
      "min      0.651150\n",
      "25%      0.657634\n",
      "50%      0.660759\n",
      "75%      0.661068\n",
      "max      0.669375\n",
      "dtype: float64\n"
     ]
    },
    {
     "name": "stderr",
     "output_type": "stream",
     "text": [
      "C:\\Users\\Morad Elshorbagy\\Desktop\\University\\Git\\DataScienceProject\\Data Science Project\\.venv\\Lib\\site-packages\\sklearn\\model_selection\\_split.py:805: UserWarning: The least populated class in y has only 1 members, which is less than n_splits=5.\n",
      "  warnings.warn(\n",
      "C:\\Users\\Morad Elshorbagy\\Desktop\\University\\Git\\DataScienceProject\\Data Science Project\\.venv\\Lib\\site-packages\\sklearn\\utils\\validation.py:1408: DataConversionWarning: A column-vector y was passed when a 1d array was expected. Please change the shape of y to (n_samples, ), for example using ravel().\n",
      "  y = column_or_1d(y, warn=True)\n",
      "C:\\Users\\Morad Elshorbagy\\Desktop\\University\\Git\\DataScienceProject\\Data Science Project\\.venv\\Lib\\site-packages\\sklearn\\utils\\validation.py:1408: DataConversionWarning: A column-vector y was passed when a 1d array was expected. Please change the shape of y to (n_samples, ), for example using ravel().\n",
      "  y = column_or_1d(y, warn=True)\n",
      "C:\\Users\\Morad Elshorbagy\\Desktop\\University\\Git\\DataScienceProject\\Data Science Project\\.venv\\Lib\\site-packages\\sklearn\\utils\\validation.py:1408: DataConversionWarning: A column-vector y was passed when a 1d array was expected. Please change the shape of y to (n_samples, ), for example using ravel().\n",
      "  y = column_or_1d(y, warn=True)\n",
      "C:\\Users\\Morad Elshorbagy\\Desktop\\University\\Git\\DataScienceProject\\Data Science Project\\.venv\\Lib\\site-packages\\sklearn\\utils\\validation.py:1408: DataConversionWarning: A column-vector y was passed when a 1d array was expected. Please change the shape of y to (n_samples, ), for example using ravel().\n",
      "  y = column_or_1d(y, warn=True)\n",
      "C:\\Users\\Morad Elshorbagy\\Desktop\\University\\Git\\DataScienceProject\\Data Science Project\\.venv\\Lib\\site-packages\\sklearn\\utils\\validation.py:1408: DataConversionWarning: A column-vector y was passed when a 1d array was expected. Please change the shape of y to (n_samples, ), for example using ravel().\n",
      "  y = column_or_1d(y, warn=True)\n"
     ]
    },
    {
     "name": "stdout",
     "output_type": "stream",
     "text": [
      "model 14 CV score:\n",
      " count    5.000000\n",
      "mean     0.639768\n",
      "std      0.039837\n",
      "min      0.570993\n",
      "25%      0.647166\n",
      "50%      0.647301\n",
      "75%      0.661354\n",
      "max      0.672026\n",
      "dtype: float64\n"
     ]
    },
    {
     "name": "stderr",
     "output_type": "stream",
     "text": [
      "C:\\Users\\Morad Elshorbagy\\Desktop\\University\\Git\\DataScienceProject\\Data Science Project\\.venv\\Lib\\site-packages\\sklearn\\model_selection\\_split.py:805: UserWarning: The least populated class in y has only 1 members, which is less than n_splits=5.\n",
      "  warnings.warn(\n",
      "C:\\Users\\Morad Elshorbagy\\Desktop\\University\\Git\\DataScienceProject\\Data Science Project\\.venv\\Lib\\site-packages\\sklearn\\preprocessing\\_label.py:110: DataConversionWarning: A column-vector y was passed when a 1d array was expected. Please change the shape of y to (n_samples, ), for example using ravel().\n",
      "  y = column_or_1d(y, warn=True)\n",
      "C:\\Users\\Morad Elshorbagy\\Desktop\\University\\Git\\DataScienceProject\\Data Science Project\\.venv\\Lib\\site-packages\\sklearn\\preprocessing\\_label.py:110: DataConversionWarning: A column-vector y was passed when a 1d array was expected. Please change the shape of y to (n_samples, ), for example using ravel().\n",
      "  y = column_or_1d(y, warn=True)\n",
      "C:\\Users\\Morad Elshorbagy\\Desktop\\University\\Git\\DataScienceProject\\Data Science Project\\.venv\\Lib\\site-packages\\sklearn\\preprocessing\\_label.py:110: DataConversionWarning: A column-vector y was passed when a 1d array was expected. Please change the shape of y to (n_samples, ), for example using ravel().\n",
      "  y = column_or_1d(y, warn=True)\n",
      "C:\\Users\\Morad Elshorbagy\\Desktop\\University\\Git\\DataScienceProject\\Data Science Project\\.venv\\Lib\\site-packages\\sklearn\\preprocessing\\_label.py:110: DataConversionWarning: A column-vector y was passed when a 1d array was expected. Please change the shape of y to (n_samples, ), for example using ravel().\n",
      "  y = column_or_1d(y, warn=True)\n",
      "C:\\Users\\Morad Elshorbagy\\Desktop\\University\\Git\\DataScienceProject\\Data Science Project\\.venv\\Lib\\site-packages\\sklearn\\preprocessing\\_label.py:110: DataConversionWarning: A column-vector y was passed when a 1d array was expected. Please change the shape of y to (n_samples, ), for example using ravel().\n",
      "  y = column_or_1d(y, warn=True)\n"
     ]
    },
    {
     "name": "stdout",
     "output_type": "stream",
     "text": [
      "model 15 CV score:\n",
      " count    5.000000\n",
      "mean     0.692223\n",
      "std      0.007777\n",
      "min      0.683657\n",
      "25%      0.686899\n",
      "50%      0.692339\n",
      "75%      0.694353\n",
      "max      0.703869\n",
      "dtype: float64\n"
     ]
    },
    {
     "name": "stderr",
     "output_type": "stream",
     "text": [
      "C:\\Users\\Morad Elshorbagy\\Desktop\\University\\Git\\DataScienceProject\\Data Science Project\\.venv\\Lib\\site-packages\\sklearn\\model_selection\\_split.py:805: UserWarning: The least populated class in y has only 1 members, which is less than n_splits=5.\n",
      "  warnings.warn(\n",
      "C:\\Users\\Morad Elshorbagy\\Desktop\\University\\Git\\DataScienceProject\\Data Science Project\\.venv\\Lib\\site-packages\\sklearn\\ensemble\\_bagging.py:878: DataConversionWarning: A column-vector y was passed when a 1d array was expected. Please change the shape of y to (n_samples, ), for example using ravel().\n",
      "  y = column_or_1d(y, warn=True)\n",
      "C:\\Users\\Morad Elshorbagy\\Desktop\\University\\Git\\DataScienceProject\\Data Science Project\\.venv\\Lib\\site-packages\\sklearn\\ensemble\\_bagging.py:878: DataConversionWarning: A column-vector y was passed when a 1d array was expected. Please change the shape of y to (n_samples, ), for example using ravel().\n",
      "  y = column_or_1d(y, warn=True)\n",
      "C:\\Users\\Morad Elshorbagy\\Desktop\\University\\Git\\DataScienceProject\\Data Science Project\\.venv\\Lib\\site-packages\\sklearn\\ensemble\\_bagging.py:878: DataConversionWarning: A column-vector y was passed when a 1d array was expected. Please change the shape of y to (n_samples, ), for example using ravel().\n",
      "  y = column_or_1d(y, warn=True)\n",
      "C:\\Users\\Morad Elshorbagy\\Desktop\\University\\Git\\DataScienceProject\\Data Science Project\\.venv\\Lib\\site-packages\\sklearn\\ensemble\\_bagging.py:878: DataConversionWarning: A column-vector y was passed when a 1d array was expected. Please change the shape of y to (n_samples, ), for example using ravel().\n",
      "  y = column_or_1d(y, warn=True)\n",
      "C:\\Users\\Morad Elshorbagy\\Desktop\\University\\Git\\DataScienceProject\\Data Science Project\\.venv\\Lib\\site-packages\\sklearn\\ensemble\\_bagging.py:878: DataConversionWarning: A column-vector y was passed when a 1d array was expected. Please change the shape of y to (n_samples, ), for example using ravel().\n",
      "  y = column_or_1d(y, warn=True)\n"
     ]
    },
    {
     "name": "stdout",
     "output_type": "stream",
     "text": [
      "model 16 Train Error:\n",
      "[0.58530073 0.59143522 0.59607865 0.60677182 0.5925768 ]\n"
     ]
    }
   ],
   "execution_count": 138
  },
  {
   "cell_type": "markdown",
   "id": "1a076da1-55eb-4d3e-8c38-83fc0acf7431",
   "metadata": {},
   "source": "## **Model Tuning** (To Do)"
  },
  {
   "cell_type": "code",
   "id": "652106ea-0114-4762-9ff6-4c8ee9c1db46",
   "metadata": {
    "ExecuteTime": {
     "end_time": "2025-05-03T13:35:37.457603Z",
     "start_time": "2025-05-03T13:35:36.375570Z"
    }
   },
   "source": "from sklearn.model_selection import GridSearchCV\n",
   "outputs": [
    {
     "name": "stderr",
     "output_type": "stream",
     "text": [
      "C:\\Users\\Morad Elshorbagy\\Desktop\\University\\Git\\DataScienceProject\\Data Science Project\\.venv\\Lib\\site-packages\\sklearn\\model_selection\\_split.py:805: UserWarning: The least populated class in y has only 1 members, which is less than n_splits=5.\n",
      "  warnings.warn(\n",
      "C:\\Users\\Morad Elshorbagy\\Desktop\\University\\Git\\DataScienceProject\\Data Science Project\\.venv\\Lib\\site-packages\\sklearn\\ensemble\\_bagging.py:878: DataConversionWarning: A column-vector y was passed when a 1d array was expected. Please change the shape of y to (n_samples, ), for example using ravel().\n",
      "  y = column_or_1d(y, warn=True)\n",
      "C:\\Users\\Morad Elshorbagy\\Desktop\\University\\Git\\DataScienceProject\\Data Science Project\\.venv\\Lib\\site-packages\\sklearn\\ensemble\\_bagging.py:878: DataConversionWarning: A column-vector y was passed when a 1d array was expected. Please change the shape of y to (n_samples, ), for example using ravel().\n",
      "  y = column_or_1d(y, warn=True)\n",
      "C:\\Users\\Morad Elshorbagy\\Desktop\\University\\Git\\DataScienceProject\\Data Science Project\\.venv\\Lib\\site-packages\\sklearn\\ensemble\\_bagging.py:878: DataConversionWarning: A column-vector y was passed when a 1d array was expected. Please change the shape of y to (n_samples, ), for example using ravel().\n",
      "  y = column_or_1d(y, warn=True)\n",
      "C:\\Users\\Morad Elshorbagy\\Desktop\\University\\Git\\DataScienceProject\\Data Science Project\\.venv\\Lib\\site-packages\\sklearn\\ensemble\\_bagging.py:878: DataConversionWarning: A column-vector y was passed when a 1d array was expected. Please change the shape of y to (n_samples, ), for example using ravel().\n",
      "  y = column_or_1d(y, warn=True)\n"
     ]
    },
    {
     "name": "stdout",
     "output_type": "stream",
     "text": [
      "model 16 CV score:\n",
      " count    5.000000\n",
      "mean     0.591107\n",
      "std      0.013773\n",
      "min      0.569877\n",
      "25%      0.585804\n",
      "50%      0.596609\n",
      "75%      0.597843\n",
      "max      0.605402\n",
      "dtype: float64\n"
     ]
    },
    {
     "name": "stderr",
     "output_type": "stream",
     "text": [
      "C:\\Users\\Morad Elshorbagy\\Desktop\\University\\Git\\DataScienceProject\\Data Science Project\\.venv\\Lib\\site-packages\\sklearn\\ensemble\\_bagging.py:878: DataConversionWarning: A column-vector y was passed when a 1d array was expected. Please change the shape of y to (n_samples, ), for example using ravel().\n",
      "  y = column_or_1d(y, warn=True)\n"
     ]
    }
   ],
   "execution_count": 140
  },
  {
   "metadata": {},
   "cell_type": "markdown",
   "source": "## **Test Set** (To Do)",
   "id": "4ece2aa2db9ecf87"
  },
  {
   "metadata": {},
   "cell_type": "code",
   "outputs": [],
   "execution_count": null,
   "source": "# Never use fit or fit_transform on test_set. Only use transform)(",
   "id": "e6debfdf432c3a36"
  }
 ],
 "metadata": {
  "kernelspec": {
   "display_name": "Python 3 (ipykernel)",
   "language": "python",
   "name": "python3"
  },
  "language_info": {
   "codemirror_mode": {
    "name": "ipython",
    "version": 3
   },
   "file_extension": ".py",
   "mimetype": "text/x-python",
   "name": "python",
   "nbconvert_exporter": "python",
   "pygments_lexer": "ipython3",
   "version": "3.12.3"
  }
 },
 "nbformat": 4,
 "nbformat_minor": 5
}
